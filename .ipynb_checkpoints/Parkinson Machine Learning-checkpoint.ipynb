{
 "cells": [
  {
   "cell_type": "markdown",
   "metadata": {},
   "source": [
    "The dataset used in this notebook can be downloaded on this link: https://archive.ics.uci.edu/ml/datasets/parkinsons"
   ]
  },
  {
   "cell_type": "code",
   "execution_count": 1,
   "metadata": {
    "collapsed": false
   },
   "outputs": [
    {
     "data": {
      "image/jpeg": "[encoded data removed]",
      "text/plain": [
       "<IPython.core.display.Image object>"
      ]
     },
     "execution_count": 1,
     "metadata": {},
     "output_type": "execute_result"
    }
   ],
   "source": [
    "import matplotlib.pyplot as plt\n",
    "import pandas as pd\n",
    "import numpy as np\n",
    "%matplotlib inline\n",
    "from IPython.core.display import Image\n",
    "Image(filename='brain-activity.jpg')"
   ]
  },
  {
   "cell_type": "code",
   "execution_count": 2,
   "metadata": {
    "collapsed": true
   },
   "outputs": [],
   "source": [
    "parkinson_data = pd.read_csv(\"parkinsons_data.txt\")"
   ]
  },
  {
   "cell_type": "code",
   "execution_count": 3,
   "metadata": {
    "collapsed": false
   },
   "outputs": [
    {
     "data": {
      "text/html": [
       "<div>\n",
       "<table border=\"1\" class=\"dataframe\">\n",
       "  <thead>\n",
       "    <tr style=\"text-align: right;\">\n",
       "      <th></th>\n",
       "      <th>subject#</th>\n",
       "      <th>age</th>\n",
       "      <th>sex</th>\n",
       "      <th>test_time</th>\n",
       "      <th>motor_UPDRS</th>\n",
       "      <th>total_UPDRS</th>\n",
       "      <th>Jitter(%)</th>\n",
       "      <th>Jitter(Abs)</th>\n",
       "      <th>Jitter:RAP</th>\n",
       "      <th>Jitter:PPQ5</th>\n",
       "      <th>...</th>\n",
       "      <th>Shimmer(dB)</th>\n",
       "      <th>Shimmer:APQ3</th>\n",
       "      <th>Shimmer:APQ5</th>\n",
       "      <th>Shimmer:APQ11</th>\n",
       "      <th>Shimmer:DDA</th>\n",
       "      <th>NHR</th>\n",
       "      <th>HNR</th>\n",
       "      <th>RPDE</th>\n",
       "      <th>DFA</th>\n",
       "      <th>PPE</th>\n",
       "    </tr>\n",
       "  </thead>\n",
       "  <tbody>\n",
       "    <tr>\n",
       "      <th>0</th>\n",
       "      <td>1</td>\n",
       "      <td>72</td>\n",
       "      <td>0</td>\n",
       "      <td>5.6431</td>\n",
       "      <td>28.199</td>\n",
       "      <td>34.398</td>\n",
       "      <td>0.00662</td>\n",
       "      <td>0.000034</td>\n",
       "      <td>0.00401</td>\n",
       "      <td>0.00317</td>\n",
       "      <td>...</td>\n",
       "      <td>0.230</td>\n",
       "      <td>0.01438</td>\n",
       "      <td>0.01309</td>\n",
       "      <td>0.01662</td>\n",
       "      <td>0.04314</td>\n",
       "      <td>0.014290</td>\n",
       "      <td>21.640</td>\n",
       "      <td>0.41888</td>\n",
       "      <td>0.54842</td>\n",
       "      <td>0.16006</td>\n",
       "    </tr>\n",
       "    <tr>\n",
       "      <th>1</th>\n",
       "      <td>1</td>\n",
       "      <td>72</td>\n",
       "      <td>0</td>\n",
       "      <td>12.6660</td>\n",
       "      <td>28.447</td>\n",
       "      <td>34.894</td>\n",
       "      <td>0.00300</td>\n",
       "      <td>0.000017</td>\n",
       "      <td>0.00132</td>\n",
       "      <td>0.00150</td>\n",
       "      <td>...</td>\n",
       "      <td>0.179</td>\n",
       "      <td>0.00994</td>\n",
       "      <td>0.01072</td>\n",
       "      <td>0.01689</td>\n",
       "      <td>0.02982</td>\n",
       "      <td>0.011112</td>\n",
       "      <td>27.183</td>\n",
       "      <td>0.43493</td>\n",
       "      <td>0.56477</td>\n",
       "      <td>0.10810</td>\n",
       "    </tr>\n",
       "    <tr>\n",
       "      <th>2</th>\n",
       "      <td>1</td>\n",
       "      <td>72</td>\n",
       "      <td>0</td>\n",
       "      <td>19.6810</td>\n",
       "      <td>28.695</td>\n",
       "      <td>35.389</td>\n",
       "      <td>0.00481</td>\n",
       "      <td>0.000025</td>\n",
       "      <td>0.00205</td>\n",
       "      <td>0.00208</td>\n",
       "      <td>...</td>\n",
       "      <td>0.181</td>\n",
       "      <td>0.00734</td>\n",
       "      <td>0.00844</td>\n",
       "      <td>0.01458</td>\n",
       "      <td>0.02202</td>\n",
       "      <td>0.020220</td>\n",
       "      <td>23.047</td>\n",
       "      <td>0.46222</td>\n",
       "      <td>0.54405</td>\n",
       "      <td>0.21014</td>\n",
       "    </tr>\n",
       "    <tr>\n",
       "      <th>3</th>\n",
       "      <td>1</td>\n",
       "      <td>72</td>\n",
       "      <td>0</td>\n",
       "      <td>25.6470</td>\n",
       "      <td>28.905</td>\n",
       "      <td>35.810</td>\n",
       "      <td>0.00528</td>\n",
       "      <td>0.000027</td>\n",
       "      <td>0.00191</td>\n",
       "      <td>0.00264</td>\n",
       "      <td>...</td>\n",
       "      <td>0.327</td>\n",
       "      <td>0.01106</td>\n",
       "      <td>0.01265</td>\n",
       "      <td>0.01963</td>\n",
       "      <td>0.03317</td>\n",
       "      <td>0.027837</td>\n",
       "      <td>24.445</td>\n",
       "      <td>0.48730</td>\n",
       "      <td>0.57794</td>\n",
       "      <td>0.33277</td>\n",
       "    </tr>\n",
       "    <tr>\n",
       "      <th>4</th>\n",
       "      <td>1</td>\n",
       "      <td>72</td>\n",
       "      <td>0</td>\n",
       "      <td>33.6420</td>\n",
       "      <td>29.187</td>\n",
       "      <td>36.375</td>\n",
       "      <td>0.00335</td>\n",
       "      <td>0.000020</td>\n",
       "      <td>0.00093</td>\n",
       "      <td>0.00130</td>\n",
       "      <td>...</td>\n",
       "      <td>0.176</td>\n",
       "      <td>0.00679</td>\n",
       "      <td>0.00929</td>\n",
       "      <td>0.01819</td>\n",
       "      <td>0.02036</td>\n",
       "      <td>0.011625</td>\n",
       "      <td>26.126</td>\n",
       "      <td>0.47188</td>\n",
       "      <td>0.56122</td>\n",
       "      <td>0.19361</td>\n",
       "    </tr>\n",
       "  </tbody>\n",
       "</table>\n",
       "<p>5 rows × 22 columns</p>\n",
       "</div>"
      ],
      "text/plain": [
       "   subject#  age  sex  test_time  motor_UPDRS  total_UPDRS  Jitter(%)  \\\n",
       "0         1   72    0     5.6431       28.199       34.398    0.00662   \n",
       "1         1   72    0    12.6660       28.447       34.894    0.00300   \n",
       "2         1   72    0    19.6810       28.695       35.389    0.00481   \n",
       "3         1   72    0    25.6470       28.905       35.810    0.00528   \n",
       "4         1   72    0    33.6420       29.187       36.375    0.00335   \n",
       "\n",
       "   Jitter(Abs)  Jitter:RAP  Jitter:PPQ5   ...     Shimmer(dB)  Shimmer:APQ3  \\\n",
       "0     0.000034     0.00401      0.00317   ...           0.230       0.01438   \n",
       "1     0.000017     0.00132      0.00150   ...           0.179       0.00994   \n",
       "2     0.000025     0.00205      0.00208   ...           0.181       0.00734   \n",
       "3     0.000027     0.00191      0.00264   ...           0.327       0.01106   \n",
       "4     0.000020     0.00093      0.00130   ...           0.176       0.00679   \n",
       "\n",
       "   Shimmer:APQ5  Shimmer:APQ11  Shimmer:DDA       NHR     HNR     RPDE  \\\n",
       "0       0.01309        0.01662      0.04314  0.014290  21.640  0.41888   \n",
       "1       0.01072        0.01689      0.02982  0.011112  27.183  0.43493   \n",
       "2       0.00844        0.01458      0.02202  0.020220  23.047  0.46222   \n",
       "3       0.01265        0.01963      0.03317  0.027837  24.445  0.48730   \n",
       "4       0.00929        0.01819      0.02036  0.011625  26.126  0.47188   \n",
       "\n",
       "       DFA      PPE  \n",
       "0  0.54842  0.16006  \n",
       "1  0.56477  0.10810  \n",
       "2  0.54405  0.21014  \n",
       "3  0.57794  0.33277  \n",
       "4  0.56122  0.19361  \n",
       "\n",
       "[5 rows x 22 columns]"
      ]
     },
     "execution_count": 3,
     "metadata": {},
     "output_type": "execute_result"
    }
   ],
   "source": [
    "parkinson_data.head()"
   ]
  },
  {
   "cell_type": "raw",
   "metadata": {
    "collapsed": true
   },
   "source": [
    "Attribute Information:\n",
    "\n",
    "Matrix column entries (attributes): \n",
    "name - ASCII subject name and recording number \n",
    "MDVP:Fo(Hz) - Average vocal fundamental frequency \n",
    "MDVP:Fhi(Hz) - Maximum vocal fundamental frequency \n",
    "MDVP:Flo(Hz) - Minimum vocal fundamental frequency \n",
    "MDVP:Jitter(%),MDVP:Jitter(Abs),MDVP:RAP,MDVP:PPQ,Jitter:DDP - Several measures of variation in fundamental frequency \n",
    "MDVP:Shimmer,MDVP:Shimmer(dB),Shimmer:APQ3,Shimmer:APQ5,MDVP:APQ,Shimmer:DDA - Several measures of variation in amplitude \n",
    "NHR,HNR - Two measures of ratio of noise to tonal components in the voice \n",
    "status - Health status of the subject (one) - Parkinson's, (zero) - healthy \n",
    "RPDE,D2 - Two nonlinear dynamical complexity measures \n",
    "DFA - Signal fractal scaling exponent \n",
    "spread1,spread2,PPE - Three nonlinear measures of fundamental frequency variation "
   ]
  },
  {
   "cell_type": "markdown",
   "metadata": {},
   "source": [
    "## Step 1 Data preprocessing"
   ]
  },
  {
   "cell_type": "markdown",
   "metadata": {},
   "source": [
    "Steps that we need to do with this data before doing the prediction part:\n",
    "    1. Split data to Features and labels\n",
    "    2. Scale features to the same scale\n",
    "    3. Split data into training and testing portion\n",
    "    B. Bonus will be to find what features are most 'importatnt'"
   ]
  },
  {
   "cell_type": "markdown",
   "metadata": {},
   "source": [
    "###  Step 1.1 Features vs Labels"
   ]
  },
  {
   "cell_type": "code",
   "execution_count": 4,
   "metadata": {
    "collapsed": false
   },
   "outputs": [],
   "source": [
    "labels = parkinson_data.iloc[:, 0].values\n",
    "features = parkinson_data.iloc[:, 1:].values"
   ]
  },
  {
   "cell_type": "code",
   "execution_count": 5,
   "metadata": {
    "collapsed": false
   },
   "outputs": [
    {
     "name": "stdout",
     "output_type": "stream",
     "text": [
      "(5875, 21)\n",
      "1\n"
     ]
    }
   ],
   "source": [
    "print(features.shape)\n",
    "print(labels[0])"
   ]
  },
  {
   "cell_type": "markdown",
   "metadata": {},
   "source": [
    "### Step 1.2 Scale data"
   ]
  },
  {
   "cell_type": "code",
   "execution_count": 6,
   "metadata": {
    "collapsed": true
   },
   "outputs": [],
   "source": [
    "from sklearn.preprocessing import StandardScaler"
   ]
  },
  {
   "cell_type": "code",
   "execution_count": 7,
   "metadata": {
    "collapsed": true
   },
   "outputs": [],
   "source": [
    "scaler = StandardScaler()\n",
    "scled_features = scaler.fit_transform(features)"
   ]
  },
  {
   "cell_type": "markdown",
   "metadata": {},
   "source": [
    "### Step 1.3 Splitting data into Training and test portions"
   ]
  },
  {
   "cell_type": "code",
   "execution_count": 8,
   "metadata": {
    "collapsed": true
   },
   "outputs": [],
   "source": [
    "from sklearn.model_selection import train_test_split"
   ]
  },
  {
   "cell_type": "code",
   "execution_count": 9,
   "metadata": {
    "collapsed": true
   },
   "outputs": [],
   "source": [
    "X_train, X_test, y_train, y_test = train_test_split(scled_features, labels, test_size=0.3)"
   ]
  },
  {
   "cell_type": "code",
   "execution_count": 10,
   "metadata": {
    "collapsed": false
   },
   "outputs": [
    {
     "name": "stdout",
     "output_type": "stream",
     "text": [
      "X_train shape -- > (4112, 21)\n",
      "y_train shape -- > (4112,)\n",
      "X_test shape -- > (1763, 21)\n",
      "y_test shape -- > (1763,)\n"
     ]
    }
   ],
   "source": [
    "print(\"X_train shape -- > {}\".format(X_train.shape))\n",
    "print(\"y_train shape -- > {}\".format(y_train.shape))\n",
    "print(\"X_test shape -- > {}\".format(X_test.shape))\n",
    "print(\"y_test shape -- > {}\".format(y_test.shape))"
   ]
  },
  {
   "cell_type": "markdown",
   "metadata": {},
   "source": [
    "### Step 1.B (Optional) Feature engineering (selection)"
   ]
  },
  {
   "cell_type": "code",
   "execution_count": 11,
   "metadata": {
    "collapsed": true
   },
   "outputs": [],
   "source": [
    "from sklearn.ensemble import ExtraTreesClassifier"
   ]
  },
  {
   "cell_type": "code",
   "execution_count": 12,
   "metadata": {
    "collapsed": true
   },
   "outputs": [],
   "source": [
    "etc = ExtraTreesClassifier(n_estimators=300)"
   ]
  },
  {
   "cell_type": "code",
   "execution_count": 13,
   "metadata": {
    "collapsed": false
   },
   "outputs": [
    {
     "data": {
      "text/plain": [
       "ExtraTreesClassifier(bootstrap=False, class_weight=None, criterion='gini',\n",
       "           max_depth=None, max_features='auto', max_leaf_nodes=None,\n",
       "           min_impurity_split=1e-07, min_samples_leaf=1,\n",
       "           min_samples_split=2, min_weight_fraction_leaf=0.0,\n",
       "           n_estimators=300, n_jobs=1, oob_score=False, random_state=None,\n",
       "           verbose=0, warm_start=False)"
      ]
     },
     "execution_count": 13,
     "metadata": {},
     "output_type": "execute_result"
    }
   ],
   "source": [
    "etc.fit(X_train, y_train)"
   ]
  },
  {
   "cell_type": "code",
   "execution_count": 14,
   "metadata": {
    "collapsed": false
   },
   "outputs": [
    {
     "name": "stdout",
     "output_type": "stream",
     "text": [
      "[ 0.28418804  0.05340888  0.02549182  0.12292835  0.12474032  0.0167046\n",
      "  0.02885481  0.01649181  0.01874753  0.01646209  0.01890526  0.01808126\n",
      "  0.01898149  0.02046269  0.02003292  0.01884324  0.01645578  0.0323252\n",
      "  0.03041106  0.07115116  0.02633167]\n"
     ]
    }
   ],
   "source": [
    "print(etc.feature_importances_)\n",
    "indices = np.argsort(etc.feature_importances_)[::-1]"
   ]
  },
  {
   "cell_type": "code",
   "execution_count": 15,
   "metadata": {
    "collapsed": false
   },
   "outputs": [
    {
     "data": {
      "image/png": "[encoded data removed]",
      "text/plain": [
       "<matplotlib.figure.Figure at 0x28ce9d064a8>"
      ]
     },
     "metadata": {},
     "output_type": "display_data"
    }
   ],
   "source": [
    "plt.figure(num=None, figsize=(14, 10), dpi=80, facecolor='w')\n",
    "plt.title(\"Feature importances\")\n",
    "plt.bar(range(features.shape[1]), etc.feature_importances_[indices],\n",
    "       color=\"r\", align=\"center\")\n",
    "plt.xticks(range(features.shape[1]), indices)\n",
    "plt.show()"
   ]
  },
  {
   "cell_type": "markdown",
   "metadata": {},
   "source": [
    "## Step 2 Prediction"
   ]
  },
  {
   "cell_type": "markdown",
   "metadata": {},
   "source": [
    "### Step 2.1 Simple algorithms"
   ]
  },
  {
   "cell_type": "code",
   "execution_count": 16,
   "metadata": {
    "collapsed": false
   },
   "outputs": [
    {
     "name": "stderr",
     "output_type": "stream",
     "text": [
      "C:\\Users\\lukaa\\Anaconda33\\lib\\site-packages\\sklearn\\cross_validation.py:44: DeprecationWarning: This module was deprecated in version 0.18 in favor of the model_selection module into which all the refactored classes and functions are moved. Also note that the interface of the new CV iterators are different from that of this module. This module will be removed in 0.20.\n",
      "  \"This module will be removed in 0.20.\", DeprecationWarning)\n",
      "C:\\Users\\lukaa\\Anaconda33\\lib\\site-packages\\sklearn\\grid_search.py:43: DeprecationWarning: This module was deprecated in version 0.18 in favor of the model_selection module into which all the refactored classes and functions are moved. This module will be removed in 0.20.\n",
      "  DeprecationWarning)\n"
     ]
    }
   ],
   "source": [
    "from sklearn.metrics import accuracy_score\n",
    "from sklearn.grid_search import GridSearchCV\n",
    "from sklearn.cross_validation import cross_val_score"
   ]
  },
  {
   "cell_type": "markdown",
   "metadata": {},
   "source": [
    "#### Step 2.1.1 KNN"
   ]
  },
  {
   "cell_type": "code",
   "execution_count": 17,
   "metadata": {
    "collapsed": true
   },
   "outputs": [],
   "source": [
    "from sklearn.neighbors import KNeighborsClassifier"
   ]
  },
  {
   "cell_type": "code",
   "execution_count": 18,
   "metadata": {
    "collapsed": false
   },
   "outputs": [
    {
     "data": {
      "text/plain": [
       "KNeighborsClassifier(algorithm='auto', leaf_size=30, metric='minkowski',\n",
       "           metric_params=None, n_jobs=1, n_neighbors=5, p=2,\n",
       "           weights='uniform')"
      ]
     },
     "execution_count": 18,
     "metadata": {},
     "output_type": "execute_result"
    }
   ],
   "source": [
    "knn = KNeighborsClassifier()\n",
    "knn.fit(X_train, y_train)"
   ]
  },
  {
   "cell_type": "code",
   "execution_count": 19,
   "metadata": {
    "collapsed": false
   },
   "outputs": [
    {
     "name": "stdout",
     "output_type": "stream",
     "text": [
      "KNN with k=5 got 91.26488939307997% accuracy on the test set.\n"
     ]
    }
   ],
   "source": [
    "print(\"KNN with k=5 got {}% accuracy on the test set.\".format(accuracy_score(y_test, knn.predict(X_test))*100))"
   ]
  },
  {
   "cell_type": "markdown",
   "metadata": {},
   "source": [
    "##### Step 2.1.1.1 KNN Grid search"
   ]
  },
  {
   "cell_type": "code",
   "execution_count": 20,
   "metadata": {
    "collapsed": true
   },
   "outputs": [],
   "source": [
    "params_dict = {'n_neighbors':[3, 5, 9, 15], 'p':[1, 2, 3], 'algorithm':['auto', 'ball_tree', 'kd_tree', 'brute']}\n",
    "gs = GridSearchCV(knn, param_grid=params_dict, verbose=10, cv=10)"
   ]
  },
  {
   "cell_type": "code",
   "execution_count": 21,
   "metadata": {
    "collapsed": false
   },
   "outputs": [
    {
     "name": "stdout",
     "output_type": "stream",
     "text": [
      "Fitting 10 folds for each of 48 candidates, totalling 480 fits\n",
      "[CV] n_neighbors=3, p=1, algorithm=auto ..............................\n",
      "[CV] ..... n_neighbors=3, p=1, algorithm=auto, score=0.900463 -   0.0s\n",
      "[CV] n_neighbors=3, p=1, algorithm=auto ..............................\n",
      "[CV] ..... n_neighbors=3, p=1, algorithm=auto, score=0.936768 -   0.0s\n",
      "[CV] n_neighbors=3, p=1, algorithm=auto ..............................\n",
      "[CV] ..... n_neighbors=3, p=1, algorithm=auto, score=0.926540 -   0.0s\n",
      "[CV] n_neighbors=3, p=1, algorithm=auto ..............................\n"
     ]
    },
    {
     "name": "stderr",
     "output_type": "stream",
     "text": [
      "[Parallel(n_jobs=1)]: Done   1 out of   1 | elapsed:    0.0s remaining:    0.0s\n",
      "[Parallel(n_jobs=1)]: Done   2 out of   2 | elapsed:    0.1s remaining:    0.0s\n",
      "[Parallel(n_jobs=1)]: Done   3 out of   3 | elapsed:    0.2s remaining:    0.0s\n"
     ]
    },
    {
     "name": "stdout",
     "output_type": "stream",
     "text": [
      "[CV] ..... n_neighbors=3, p=1, algorithm=auto, score=0.920863 -   0.0s\n",
      "[CV] n_neighbors=3, p=1, algorithm=auto ..............................\n",
      "[CV] ..... n_neighbors=3, p=1, algorithm=auto, score=0.931873 -   0.0s\n",
      "[CV] n_neighbors=3, p=1, algorithm=auto ..............................\n",
      "[CV] ..... n_neighbors=3, p=1, algorithm=auto, score=0.945813 -   0.0s\n",
      "[CV] n_neighbors=3, p=1, algorithm=auto ..............................\n"
     ]
    },
    {
     "name": "stderr",
     "output_type": "stream",
     "text": [
      "[Parallel(n_jobs=1)]: Done   4 out of   4 | elapsed:    0.3s remaining:    0.0s\n",
      "[Parallel(n_jobs=1)]: Done   5 out of   5 | elapsed:    0.3s remaining:    0.0s\n",
      "[Parallel(n_jobs=1)]: Done   6 out of   6 | elapsed:    0.4s remaining:    0.0s\n"
     ]
    },
    {
     "name": "stdout",
     "output_type": "stream",
     "text": [
      "[CV] ..... n_neighbors=3, p=1, algorithm=auto, score=0.933333 -   0.0s\n",
      "[CV] n_neighbors=3, p=1, algorithm=auto ..............................\n",
      "[CV] ..... n_neighbors=3, p=1, algorithm=auto, score=0.935000 -   0.0s\n",
      "[CV] n_neighbors=3, p=1, algorithm=auto ..............................\n",
      "[CV] ..... n_neighbors=3, p=1, algorithm=auto, score=0.924623 -   0.0s\n",
      "[CV] n_neighbors=3, p=1, algorithm=auto ..............................\n"
     ]
    },
    {
     "name": "stderr",
     "output_type": "stream",
     "text": [
      "[Parallel(n_jobs=1)]: Done   7 out of   7 | elapsed:    0.5s remaining:    0.0s\n",
      "[Parallel(n_jobs=1)]: Done   8 out of   8 | elapsed:    0.6s remaining:    0.0s\n",
      "[Parallel(n_jobs=1)]: Done   9 out of   9 | elapsed:    0.7s remaining:    0.0s\n"
     ]
    },
    {
     "name": "stdout",
     "output_type": "stream",
     "text": [
      "[CV] ..... n_neighbors=3, p=1, algorithm=auto, score=0.916244 -   0.0s\n",
      "[CV] n_neighbors=3, p=2, algorithm=auto ..............................\n",
      "[CV] ..... n_neighbors=3, p=2, algorithm=auto, score=0.886574 -   0.0s\n",
      "[CV] n_neighbors=3, p=2, algorithm=auto ..............................\n",
      "[CV] ..... n_neighbors=3, p=2, algorithm=auto, score=0.925059 -   0.0s\n",
      "[CV] n_neighbors=3, p=2, algorithm=auto ..............................\n",
      "[CV] ..... n_neighbors=3, p=2, algorithm=auto, score=0.907583 -   0.0s\n",
      "[CV] n_neighbors=3, p=2, algorithm=auto ..............................\n",
      "[CV] ..... n_neighbors=3, p=2, algorithm=auto, score=0.899281 -   0.0s\n",
      "[CV] n_neighbors=3, p=2, algorithm=auto ..............................\n",
      "[CV] ..... n_neighbors=3, p=2, algorithm=auto, score=0.907543 -   0.0s\n",
      "[CV] n_neighbors=3, p=2, algorithm=auto ..............................\n",
      "[CV] ..... n_neighbors=3, p=2, algorithm=auto, score=0.916256 -   0.0s\n",
      "[CV] n_neighbors=3, p=2, algorithm=auto ..............................\n",
      "[CV] ..... n_neighbors=3, p=2, algorithm=auto, score=0.913580 -   0.0s\n",
      "[CV] n_neighbors=3, p=2, algorithm=auto ..............................\n",
      "[CV] ..... n_neighbors=3, p=2, algorithm=auto, score=0.930000 -   0.0s\n",
      "[CV] n_neighbors=3, p=2, algorithm=auto ..............................\n",
      "[CV] ..... n_neighbors=3, p=2, algorithm=auto, score=0.899497 -   0.0s\n",
      "[CV] n_neighbors=3, p=2, algorithm=auto ..............................\n",
      "[CV] ..... n_neighbors=3, p=2, algorithm=auto, score=0.908629 -   0.0s\n",
      "[CV] n_neighbors=3, p=3, algorithm=auto ..............................\n",
      "[CV] ..... n_neighbors=3, p=3, algorithm=auto, score=0.879630 -   0.4s\n",
      "[CV] n_neighbors=3, p=3, algorithm=auto ..............................\n",
      "[CV] ..... n_neighbors=3, p=3, algorithm=auto, score=0.915691 -   0.4s\n",
      "[CV] n_neighbors=3, p=3, algorithm=auto ..............................\n",
      "[CV] ..... n_neighbors=3, p=3, algorithm=auto, score=0.895735 -   0.5s\n",
      "[CV] n_neighbors=3, p=3, algorithm=auto ..............................\n",
      "[CV] ..... n_neighbors=3, p=3, algorithm=auto, score=0.884892 -   0.4s\n",
      "[CV] n_neighbors=3, p=3, algorithm=auto ..............................\n",
      "[CV] ..... n_neighbors=3, p=3, algorithm=auto, score=0.917275 -   0.3s\n",
      "[CV] n_neighbors=3, p=3, algorithm=auto ..............................\n",
      "[CV] ..... n_neighbors=3, p=3, algorithm=auto, score=0.901478 -   0.3s\n",
      "[CV] n_neighbors=3, p=3, algorithm=auto ..............................\n",
      "[CV] ..... n_neighbors=3, p=3, algorithm=auto, score=0.906173 -   0.3s\n",
      "[CV] n_neighbors=3, p=3, algorithm=auto ..............................\n",
      "[CV] ..... n_neighbors=3, p=3, algorithm=auto, score=0.900000 -   0.3s\n",
      "[CV] n_neighbors=3, p=3, algorithm=auto ..............................\n",
      "[CV] ..... n_neighbors=3, p=3, algorithm=auto, score=0.881910 -   0.3s\n",
      "[CV] n_neighbors=3, p=3, algorithm=auto ..............................\n",
      "[CV] ..... n_neighbors=3, p=3, algorithm=auto, score=0.895939 -   0.3s\n",
      "[CV] n_neighbors=5, p=1, algorithm=auto ..............................\n",
      "[CV] ..... n_neighbors=5, p=1, algorithm=auto, score=0.888889 -   0.0s\n",
      "[CV] n_neighbors=5, p=1, algorithm=auto ..............................\n",
      "[CV] ..... n_neighbors=5, p=1, algorithm=auto, score=0.929742 -   0.0s\n",
      "[CV] n_neighbors=5, p=1, algorithm=auto ..............................\n",
      "[CV] ..... n_neighbors=5, p=1, algorithm=auto, score=0.919431 -   0.0s\n",
      "[CV] n_neighbors=5, p=1, algorithm=auto ..............................\n",
      "[CV] ..... n_neighbors=5, p=1, algorithm=auto, score=0.940048 -   0.1s\n",
      "[CV] n_neighbors=5, p=1, algorithm=auto ..............................\n",
      "[CV] ..... n_neighbors=5, p=1, algorithm=auto, score=0.927007 -   0.0s\n",
      "[CV] n_neighbors=5, p=1, algorithm=auto ..............................\n",
      "[CV] ..... n_neighbors=5, p=1, algorithm=auto, score=0.928571 -   0.0s\n",
      "[CV] n_neighbors=5, p=1, algorithm=auto ..............................\n",
      "[CV] ..... n_neighbors=5, p=1, algorithm=auto, score=0.943210 -   0.0s\n",
      "[CV] n_neighbors=5, p=1, algorithm=auto ..............................\n",
      "[CV] ..... n_neighbors=5, p=1, algorithm=auto, score=0.942500 -   0.0s\n",
      "[CV] n_neighbors=5, p=1, algorithm=auto ..............................\n",
      "[CV] ..... n_neighbors=5, p=1, algorithm=auto, score=0.919598 -   0.1s\n",
      "[CV] n_neighbors=5, p=1, algorithm=auto ..............................\n",
      "[CV] ..... n_neighbors=5, p=1, algorithm=auto, score=0.918782 -   0.0s\n",
      "[CV] n_neighbors=5, p=2, algorithm=auto ..............................\n",
      "[CV] ..... n_neighbors=5, p=2, algorithm=auto, score=0.879630 -   0.0s\n",
      "[CV] n_neighbors=5, p=2, algorithm=auto ..............................\n",
      "[CV] ..... n_neighbors=5, p=2, algorithm=auto, score=0.920375 -   0.0s\n",
      "[CV] n_neighbors=5, p=2, algorithm=auto ..............................\n",
      "[CV] ..... n_neighbors=5, p=2, algorithm=auto, score=0.895735 -   0.0s\n",
      "[CV] n_neighbors=5, p=2, algorithm=auto ..............................\n",
      "[CV] ..... n_neighbors=5, p=2, algorithm=auto, score=0.906475 -   0.0s\n",
      "[CV] n_neighbors=5, p=2, algorithm=auto ..............................\n",
      "[CV] ..... n_neighbors=5, p=2, algorithm=auto, score=0.924574 -   0.0s\n",
      "[CV] n_neighbors=5, p=2, algorithm=auto ..............................\n",
      "[CV] ..... n_neighbors=5, p=2, algorithm=auto, score=0.918719 -   0.0s\n",
      "[CV] n_neighbors=5, p=2, algorithm=auto ..............................\n",
      "[CV] ..... n_neighbors=5, p=2, algorithm=auto, score=0.911111 -   0.0s\n",
      "[CV] n_neighbors=5, p=2, algorithm=auto ..............................\n",
      "[CV] ..... n_neighbors=5, p=2, algorithm=auto, score=0.920000 -   0.0s\n",
      "[CV] n_neighbors=5, p=2, algorithm=auto ..............................\n",
      "[CV] ..... n_neighbors=5, p=2, algorithm=auto, score=0.907035 -   0.0s\n",
      "[CV] n_neighbors=5, p=2, algorithm=auto ..............................\n",
      "[CV] ..... n_neighbors=5, p=2, algorithm=auto, score=0.901015 -   0.0s\n",
      "[CV] n_neighbors=5, p=3, algorithm=auto ..............................\n",
      "[CV] ..... n_neighbors=5, p=3, algorithm=auto, score=0.865741 -   0.6s\n",
      "[CV] n_neighbors=5, p=3, algorithm=auto ..............................\n",
      "[CV] ..... n_neighbors=5, p=3, algorithm=auto, score=0.899297 -   0.6s\n",
      "[CV] n_neighbors=5, p=3, algorithm=auto ..............................\n",
      "[CV] ..... n_neighbors=5, p=3, algorithm=auto, score=0.883886 -   0.4s\n",
      "[CV] n_neighbors=5, p=3, algorithm=auto ..............................\n",
      "[CV] ..... n_neighbors=5, p=3, algorithm=auto, score=0.896882 -   0.4s\n",
      "[CV] n_neighbors=5, p=3, algorithm=auto ..............................\n",
      "[CV] ..... n_neighbors=5, p=3, algorithm=auto, score=0.907543 -   0.4s\n",
      "[CV] n_neighbors=5, p=3, algorithm=auto ..............................\n",
      "[CV] ..... n_neighbors=5, p=3, algorithm=auto, score=0.901478 -   0.4s\n",
      "[CV] n_neighbors=5, p=3, algorithm=auto ..............................\n",
      "[CV] ..... n_neighbors=5, p=3, algorithm=auto, score=0.891358 -   0.4s\n",
      "[CV] n_neighbors=5, p=3, algorithm=auto ..............................\n",
      "[CV] ..... n_neighbors=5, p=3, algorithm=auto, score=0.897500 -   0.4s\n",
      "[CV] n_neighbors=5, p=3, algorithm=auto ..............................\n",
      "[CV] ..... n_neighbors=5, p=3, algorithm=auto, score=0.884422 -   0.4s\n",
      "[CV] n_neighbors=5, p=3, algorithm=auto ..............................\n",
      "[CV] ..... n_neighbors=5, p=3, algorithm=auto, score=0.883249 -   0.4s\n",
      "[CV] n_neighbors=9, p=1, algorithm=auto ..............................\n",
      "[CV] ..... n_neighbors=9, p=1, algorithm=auto, score=0.875000 -   0.0s\n",
      "[CV] n_neighbors=9, p=1, algorithm=auto ..............................\n",
      "[CV] ..... n_neighbors=9, p=1, algorithm=auto, score=0.911007 -   0.0s\n",
      "[CV] n_neighbors=9, p=1, algorithm=auto ..............................\n",
      "[CV] ..... n_neighbors=9, p=1, algorithm=auto, score=0.905213 -   0.0s\n",
      "[CV] n_neighbors=9, p=1, algorithm=auto ..............................\n",
      "[CV] ..... n_neighbors=9, p=1, algorithm=auto, score=0.920863 -   0.0s\n",
      "[CV] n_neighbors=9, p=1, algorithm=auto ..............................\n",
      "[CV] ..... n_neighbors=9, p=1, algorithm=auto, score=0.917275 -   0.0s\n",
      "[CV] n_neighbors=9, p=1, algorithm=auto ..............................\n",
      "[CV] ..... n_neighbors=9, p=1, algorithm=auto, score=0.921182 -   0.0s\n",
      "[CV] n_neighbors=9, p=1, algorithm=auto ..............................\n",
      "[CV] ..... n_neighbors=9, p=1, algorithm=auto, score=0.925926 -   0.0s\n",
      "[CV] n_neighbors=9, p=1, algorithm=auto ..............................\n",
      "[CV] ..... n_neighbors=9, p=1, algorithm=auto, score=0.910000 -   0.0s\n",
      "[CV] n_neighbors=9, p=1, algorithm=auto ..............................\n",
      "[CV] ..... n_neighbors=9, p=1, algorithm=auto, score=0.914573 -   0.0s\n",
      "[CV] n_neighbors=9, p=1, algorithm=auto ..............................\n",
      "[CV] ..... n_neighbors=9, p=1, algorithm=auto, score=0.913706 -   0.0s\n",
      "[CV] n_neighbors=9, p=2, algorithm=auto ..............................\n",
      "[CV] ..... n_neighbors=9, p=2, algorithm=auto, score=0.861111 -   0.0s\n",
      "[CV] n_neighbors=9, p=2, algorithm=auto ..............................\n",
      "[CV] ..... n_neighbors=9, p=2, algorithm=auto, score=0.894614 -   0.0s\n",
      "[CV] n_neighbors=9, p=2, algorithm=auto ..............................\n",
      "[CV] ..... n_neighbors=9, p=2, algorithm=auto, score=0.881517 -   0.0s\n",
      "[CV] n_neighbors=9, p=2, algorithm=auto ..............................\n",
      "[CV] ..... n_neighbors=9, p=2, algorithm=auto, score=0.904077 -   0.0s\n",
      "[CV] n_neighbors=9, p=2, algorithm=auto ..............................\n",
      "[CV] ..... n_neighbors=9, p=2, algorithm=auto, score=0.895377 -   0.0s\n",
      "[CV] n_neighbors=9, p=2, algorithm=auto ..............................\n",
      "[CV] ..... n_neighbors=9, p=2, algorithm=auto, score=0.908867 -   0.0s\n",
      "[CV] n_neighbors=9, p=2, algorithm=auto ..............................\n",
      "[CV] ..... n_neighbors=9, p=2, algorithm=auto, score=0.901235 -   0.0s\n",
      "[CV] n_neighbors=9, p=2, algorithm=auto ..............................\n",
      "[CV] ..... n_neighbors=9, p=2, algorithm=auto, score=0.892500 -   0.0s\n",
      "[CV] n_neighbors=9, p=2, algorithm=auto ..............................\n",
      "[CV] ..... n_neighbors=9, p=2, algorithm=auto, score=0.876884 -   0.0s\n",
      "[CV] n_neighbors=9, p=2, algorithm=auto ..............................\n",
      "[CV] ..... n_neighbors=9, p=2, algorithm=auto, score=0.893401 -   0.0s\n",
      "[CV] n_neighbors=9, p=3, algorithm=auto ..............................\n",
      "[CV] ..... n_neighbors=9, p=3, algorithm=auto, score=0.847222 -   0.5s\n",
      "[CV] n_neighbors=9, p=3, algorithm=auto ..............................\n",
      "[CV] ..... n_neighbors=9, p=3, algorithm=auto, score=0.885246 -   0.6s\n",
      "[CV] n_neighbors=9, p=3, algorithm=auto ..............................\n",
      "[CV] ..... n_neighbors=9, p=3, algorithm=auto, score=0.879147 -   0.6s\n",
      "[CV] n_neighbors=9, p=3, algorithm=auto ..............................\n",
      "[CV] ..... n_neighbors=9, p=3, algorithm=auto, score=0.870504 -   0.6s\n",
      "[CV] n_neighbors=9, p=3, algorithm=auto ..............................\n",
      "[CV] ..... n_neighbors=9, p=3, algorithm=auto, score=0.890511 -   0.6s\n",
      "[CV] n_neighbors=9, p=3, algorithm=auto ..............................\n",
      "[CV] ..... n_neighbors=9, p=3, algorithm=auto, score=0.911330 -   0.6s\n",
      "[CV] n_neighbors=9, p=3, algorithm=auto ..............................\n",
      "[CV] ..... n_neighbors=9, p=3, algorithm=auto, score=0.879012 -   0.6s\n",
      "[CV] n_neighbors=9, p=3, algorithm=auto ..............................\n",
      "[CV] ..... n_neighbors=9, p=3, algorithm=auto, score=0.887500 -   0.6s\n",
      "[CV] n_neighbors=9, p=3, algorithm=auto ..............................\n",
      "[CV] ..... n_neighbors=9, p=3, algorithm=auto, score=0.871859 -   0.5s\n",
      "[CV] n_neighbors=9, p=3, algorithm=auto ..............................\n",
      "[CV] ..... n_neighbors=9, p=3, algorithm=auto, score=0.875635 -   0.5s\n",
      "[CV] n_neighbors=15, p=1, algorithm=auto .............................\n",
      "[CV] .... n_neighbors=15, p=1, algorithm=auto, score=0.872685 -   0.0s\n",
      "[CV] n_neighbors=15, p=1, algorithm=auto .............................\n",
      "[CV] .... n_neighbors=15, p=1, algorithm=auto, score=0.901639 -   0.0s\n",
      "[CV] n_neighbors=15, p=1, algorithm=auto .............................\n",
      "[CV] .... n_neighbors=15, p=1, algorithm=auto, score=0.879147 -   0.0s\n",
      "[CV] n_neighbors=15, p=1, algorithm=auto .............................\n",
      "[CV] .... n_neighbors=15, p=1, algorithm=auto, score=0.911271 -   0.0s\n",
      "[CV] n_neighbors=15, p=1, algorithm=auto .............................\n",
      "[CV] .... n_neighbors=15, p=1, algorithm=auto, score=0.892944 -   0.0s\n",
      "[CV] n_neighbors=15, p=1, algorithm=auto .............................\n",
      "[CV] .... n_neighbors=15, p=1, algorithm=auto, score=0.903941 -   0.0s\n",
      "[CV] n_neighbors=15, p=1, algorithm=auto .............................\n",
      "[CV] .... n_neighbors=15, p=1, algorithm=auto, score=0.925926 -   0.0s\n",
      "[CV] n_neighbors=15, p=1, algorithm=auto .............................\n",
      "[CV] .... n_neighbors=15, p=1, algorithm=auto, score=0.900000 -   0.0s\n",
      "[CV] n_neighbors=15, p=1, algorithm=auto .............................\n",
      "[CV] .... n_neighbors=15, p=1, algorithm=auto, score=0.886935 -   0.0s\n",
      "[CV] n_neighbors=15, p=1, algorithm=auto .............................\n",
      "[CV] .... n_neighbors=15, p=1, algorithm=auto, score=0.901015 -   0.0s\n",
      "[CV] n_neighbors=15, p=2, algorithm=auto .............................\n",
      "[CV] .... n_neighbors=15, p=2, algorithm=auto, score=0.849537 -   0.0s\n",
      "[CV] n_neighbors=15, p=2, algorithm=auto .............................\n",
      "[CV] .... n_neighbors=15, p=2, algorithm=auto, score=0.873536 -   0.0s\n",
      "[CV] n_neighbors=15, p=2, algorithm=auto .............................\n",
      "[CV] .... n_neighbors=15, p=2, algorithm=auto, score=0.869668 -   0.0s\n",
      "[CV] n_neighbors=15, p=2, algorithm=auto .............................\n",
      "[CV] .... n_neighbors=15, p=2, algorithm=auto, score=0.889688 -   0.0s\n",
      "[CV] n_neighbors=15, p=2, algorithm=auto .............................\n",
      "[CV] .... n_neighbors=15, p=2, algorithm=auto, score=0.883212 -   0.0s\n",
      "[CV] n_neighbors=15, p=2, algorithm=auto .............................\n",
      "[CV] .... n_neighbors=15, p=2, algorithm=auto, score=0.894089 -   0.0s\n",
      "[CV] n_neighbors=15, p=2, algorithm=auto .............................\n",
      "[CV] .... n_neighbors=15, p=2, algorithm=auto, score=0.876543 -   0.0s\n",
      "[CV] n_neighbors=15, p=2, algorithm=auto .............................\n",
      "[CV] .... n_neighbors=15, p=2, algorithm=auto, score=0.867500 -   0.0s\n",
      "[CV] n_neighbors=15, p=2, algorithm=auto .............................\n",
      "[CV] .... n_neighbors=15, p=2, algorithm=auto, score=0.861809 -   0.0s\n",
      "[CV] n_neighbors=15, p=2, algorithm=auto .............................\n",
      "[CV] .... n_neighbors=15, p=2, algorithm=auto, score=0.885787 -   0.0s\n",
      "[CV] n_neighbors=15, p=3, algorithm=auto .............................\n",
      "[CV] .... n_neighbors=15, p=3, algorithm=auto, score=0.840278 -   0.6s\n",
      "[CV] n_neighbors=15, p=3, algorithm=auto .............................\n",
      "[CV] .... n_neighbors=15, p=3, algorithm=auto, score=0.861827 -   0.6s\n",
      "[CV] n_neighbors=15, p=3, algorithm=auto .............................\n",
      "[CV] .... n_neighbors=15, p=3, algorithm=auto, score=0.853081 -   0.6s\n",
      "[CV] n_neighbors=15, p=3, algorithm=auto .............................\n",
      "[CV] .... n_neighbors=15, p=3, algorithm=auto, score=0.860911 -   0.6s\n",
      "[CV] n_neighbors=15, p=3, algorithm=auto .............................\n",
      "[CV] .... n_neighbors=15, p=3, algorithm=auto, score=0.875912 -   0.6s\n",
      "[CV] n_neighbors=15, p=3, algorithm=auto .............................\n",
      "[CV] .... n_neighbors=15, p=3, algorithm=auto, score=0.879310 -   0.7s\n",
      "[CV] n_neighbors=15, p=3, algorithm=auto .............................\n",
      "[CV] .... n_neighbors=15, p=3, algorithm=auto, score=0.883951 -   0.8s\n",
      "[CV] n_neighbors=15, p=3, algorithm=auto .............................\n",
      "[CV] .... n_neighbors=15, p=3, algorithm=auto, score=0.870000 -   0.7s\n",
      "[CV] n_neighbors=15, p=3, algorithm=auto .............................\n",
      "[CV] .... n_neighbors=15, p=3, algorithm=auto, score=0.851759 -   0.6s\n",
      "[CV] n_neighbors=15, p=3, algorithm=auto .............................\n",
      "[CV] .... n_neighbors=15, p=3, algorithm=auto, score=0.862944 -   0.6s\n",
      "[CV] n_neighbors=3, p=1, algorithm=ball_tree .........................\n",
      "[CV]  n_neighbors=3, p=1, algorithm=ball_tree, score=0.900463 -   0.0s\n",
      "[CV] n_neighbors=3, p=1, algorithm=ball_tree .........................\n",
      "[CV]  n_neighbors=3, p=1, algorithm=ball_tree, score=0.936768 -   0.0s\n",
      "[CV] n_neighbors=3, p=1, algorithm=ball_tree .........................\n",
      "[CV]  n_neighbors=3, p=1, algorithm=ball_tree, score=0.926540 -   0.0s\n",
      "[CV] n_neighbors=3, p=1, algorithm=ball_tree .........................\n",
      "[CV]  n_neighbors=3, p=1, algorithm=ball_tree, score=0.920863 -   0.0s\n",
      "[CV] n_neighbors=3, p=1, algorithm=ball_tree .........................\n",
      "[CV]  n_neighbors=3, p=1, algorithm=ball_tree, score=0.931873 -   0.0s\n",
      "[CV] n_neighbors=3, p=1, algorithm=ball_tree .........................\n",
      "[CV]  n_neighbors=3, p=1, algorithm=ball_tree, score=0.945813 -   0.0s\n",
      "[CV] n_neighbors=3, p=1, algorithm=ball_tree .........................\n",
      "[CV]  n_neighbors=3, p=1, algorithm=ball_tree, score=0.933333 -   0.1s\n",
      "[CV] n_neighbors=3, p=1, algorithm=ball_tree .........................\n",
      "[CV]  n_neighbors=3, p=1, algorithm=ball_tree, score=0.935000 -   0.0s\n",
      "[CV] n_neighbors=3, p=1, algorithm=ball_tree .........................\n",
      "[CV]  n_neighbors=3, p=1, algorithm=ball_tree, score=0.924623 -   0.1s\n",
      "[CV] n_neighbors=3, p=1, algorithm=ball_tree .........................\n",
      "[CV]  n_neighbors=3, p=1, algorithm=ball_tree, score=0.916244 -   0.0s\n",
      "[CV] n_neighbors=3, p=2, algorithm=ball_tree .........................\n",
      "[CV]  n_neighbors=3, p=2, algorithm=ball_tree, score=0.886574 -   0.0s\n",
      "[CV] n_neighbors=3, p=2, algorithm=ball_tree .........................\n",
      "[CV]  n_neighbors=3, p=2, algorithm=ball_tree, score=0.925059 -   0.0s\n",
      "[CV] n_neighbors=3, p=2, algorithm=ball_tree .........................\n",
      "[CV]  n_neighbors=3, p=2, algorithm=ball_tree, score=0.907583 -   0.0s\n",
      "[CV] n_neighbors=3, p=2, algorithm=ball_tree .........................\n",
      "[CV]  n_neighbors=3, p=2, algorithm=ball_tree, score=0.899281 -   0.0s\n",
      "[CV] n_neighbors=3, p=2, algorithm=ball_tree .........................\n",
      "[CV]  n_neighbors=3, p=2, algorithm=ball_tree, score=0.907543 -   0.0s\n",
      "[CV] n_neighbors=3, p=2, algorithm=ball_tree .........................\n",
      "[CV]  n_neighbors=3, p=2, algorithm=ball_tree, score=0.916256 -   0.0s\n",
      "[CV] n_neighbors=3, p=2, algorithm=ball_tree .........................\n",
      "[CV]  n_neighbors=3, p=2, algorithm=ball_tree, score=0.913580 -   0.0s\n",
      "[CV] n_neighbors=3, p=2, algorithm=ball_tree .........................\n",
      "[CV]  n_neighbors=3, p=2, algorithm=ball_tree, score=0.930000 -   0.1s\n",
      "[CV] n_neighbors=3, p=2, algorithm=ball_tree .........................\n",
      "[CV]  n_neighbors=3, p=2, algorithm=ball_tree, score=0.899497 -   0.1s\n",
      "[CV] n_neighbors=3, p=2, algorithm=ball_tree .........................\n",
      "[CV]  n_neighbors=3, p=2, algorithm=ball_tree, score=0.908629 -   0.1s\n",
      "[CV] n_neighbors=3, p=3, algorithm=ball_tree .........................\n",
      "[CV]  n_neighbors=3, p=3, algorithm=ball_tree, score=0.879630 -   1.8s\n",
      "[CV] n_neighbors=3, p=3, algorithm=ball_tree .........................\n",
      "[CV]  n_neighbors=3, p=3, algorithm=ball_tree, score=0.915691 -   1.8s\n",
      "[CV] n_neighbors=3, p=3, algorithm=ball_tree .........................\n",
      "[CV]  n_neighbors=3, p=3, algorithm=ball_tree, score=0.895735 -   1.5s\n",
      "[CV] n_neighbors=3, p=3, algorithm=ball_tree .........................\n",
      "[CV]  n_neighbors=3, p=3, algorithm=ball_tree, score=0.884892 -   1.5s\n",
      "[CV] n_neighbors=3, p=3, algorithm=ball_tree .........................\n",
      "[CV]  n_neighbors=3, p=3, algorithm=ball_tree, score=0.917275 -   1.4s\n",
      "[CV] n_neighbors=3, p=3, algorithm=ball_tree .........................\n",
      "[CV]  n_neighbors=3, p=3, algorithm=ball_tree, score=0.901478 -   1.4s\n",
      "[CV] n_neighbors=3, p=3, algorithm=ball_tree .........................\n",
      "[CV]  n_neighbors=3, p=3, algorithm=ball_tree, score=0.906173 -   1.4s\n",
      "[CV] n_neighbors=3, p=3, algorithm=ball_tree .........................\n",
      "[CV]  n_neighbors=3, p=3, algorithm=ball_tree, score=0.900000 -   1.4s\n",
      "[CV] n_neighbors=3, p=3, algorithm=ball_tree .........................\n",
      "[CV]  n_neighbors=3, p=3, algorithm=ball_tree, score=0.881910 -   1.4s\n",
      "[CV] n_neighbors=3, p=3, algorithm=ball_tree .........................\n",
      "[CV]  n_neighbors=3, p=3, algorithm=ball_tree, score=0.895939 -   1.4s\n",
      "[CV] n_neighbors=5, p=1, algorithm=ball_tree .........................\n",
      "[CV]  n_neighbors=5, p=1, algorithm=ball_tree, score=0.888889 -   0.0s\n",
      "[CV] n_neighbors=5, p=1, algorithm=ball_tree .........................\n",
      "[CV]  n_neighbors=5, p=1, algorithm=ball_tree, score=0.929742 -   0.0s\n",
      "[CV] n_neighbors=5, p=1, algorithm=ball_tree .........................\n",
      "[CV]  n_neighbors=5, p=1, algorithm=ball_tree, score=0.919431 -   0.0s\n",
      "[CV] n_neighbors=5, p=1, algorithm=ball_tree .........................\n",
      "[CV]  n_neighbors=5, p=1, algorithm=ball_tree, score=0.940048 -   0.0s\n",
      "[CV] n_neighbors=5, p=1, algorithm=ball_tree .........................\n",
      "[CV]  n_neighbors=5, p=1, algorithm=ball_tree, score=0.927007 -   0.0s\n",
      "[CV] n_neighbors=5, p=1, algorithm=ball_tree .........................\n",
      "[CV]  n_neighbors=5, p=1, algorithm=ball_tree, score=0.928571 -   0.0s\n",
      "[CV] n_neighbors=5, p=1, algorithm=ball_tree .........................\n",
      "[CV]  n_neighbors=5, p=1, algorithm=ball_tree, score=0.943210 -   0.0s\n",
      "[CV] n_neighbors=5, p=1, algorithm=ball_tree .........................\n",
      "[CV]  n_neighbors=5, p=1, algorithm=ball_tree, score=0.942500 -   0.0s\n",
      "[CV] n_neighbors=5, p=1, algorithm=ball_tree .........................\n",
      "[CV]  n_neighbors=5, p=1, algorithm=ball_tree, score=0.919598 -   0.1s\n",
      "[CV] n_neighbors=5, p=1, algorithm=ball_tree .........................\n",
      "[CV]  n_neighbors=5, p=1, algorithm=ball_tree, score=0.918782 -   0.0s\n",
      "[CV] n_neighbors=5, p=2, algorithm=ball_tree .........................\n",
      "[CV]  n_neighbors=5, p=2, algorithm=ball_tree, score=0.879630 -   0.1s\n",
      "[CV] n_neighbors=5, p=2, algorithm=ball_tree .........................\n",
      "[CV]  n_neighbors=5, p=2, algorithm=ball_tree, score=0.920375 -   0.1s\n",
      "[CV] n_neighbors=5, p=2, algorithm=ball_tree .........................\n",
      "[CV]  n_neighbors=5, p=2, algorithm=ball_tree, score=0.895735 -   0.1s\n",
      "[CV] n_neighbors=5, p=2, algorithm=ball_tree .........................\n",
      "[CV]  n_neighbors=5, p=2, algorithm=ball_tree, score=0.906475 -   0.1s\n",
      "[CV] n_neighbors=5, p=2, algorithm=ball_tree .........................\n",
      "[CV]  n_neighbors=5, p=2, algorithm=ball_tree, score=0.924574 -   0.1s\n",
      "[CV] n_neighbors=5, p=2, algorithm=ball_tree .........................\n",
      "[CV]  n_neighbors=5, p=2, algorithm=ball_tree, score=0.918719 -   0.1s\n",
      "[CV] n_neighbors=5, p=2, algorithm=ball_tree .........................\n",
      "[CV]  n_neighbors=5, p=2, algorithm=ball_tree, score=0.911111 -   0.0s\n",
      "[CV] n_neighbors=5, p=2, algorithm=ball_tree .........................\n",
      "[CV]  n_neighbors=5, p=2, algorithm=ball_tree, score=0.920000 -   0.1s\n",
      "[CV] n_neighbors=5, p=2, algorithm=ball_tree .........................\n",
      "[CV]  n_neighbors=5, p=2, algorithm=ball_tree, score=0.907035 -   0.0s\n",
      "[CV] n_neighbors=5, p=2, algorithm=ball_tree .........................\n",
      "[CV]  n_neighbors=5, p=2, algorithm=ball_tree, score=0.901015 -   0.0s\n",
      "[CV] n_neighbors=5, p=3, algorithm=ball_tree .........................\n",
      "[CV]  n_neighbors=5, p=3, algorithm=ball_tree, score=0.865741 -   1.7s\n",
      "[CV] n_neighbors=5, p=3, algorithm=ball_tree .........................\n",
      "[CV]  n_neighbors=5, p=3, algorithm=ball_tree, score=0.899297 -   1.6s\n",
      "[CV] n_neighbors=5, p=3, algorithm=ball_tree .........................\n",
      "[CV]  n_neighbors=5, p=3, algorithm=ball_tree, score=0.883886 -   1.6s\n",
      "[CV] n_neighbors=5, p=3, algorithm=ball_tree .........................\n",
      "[CV]  n_neighbors=5, p=3, algorithm=ball_tree, score=0.896882 -   1.5s\n",
      "[CV] n_neighbors=5, p=3, algorithm=ball_tree .........................\n",
      "[CV]  n_neighbors=5, p=3, algorithm=ball_tree, score=0.907543 -   1.4s\n",
      "[CV] n_neighbors=5, p=3, algorithm=ball_tree .........................\n",
      "[CV]  n_neighbors=5, p=3, algorithm=ball_tree, score=0.901478 -   1.5s\n",
      "[CV] n_neighbors=5, p=3, algorithm=ball_tree .........................\n",
      "[CV]  n_neighbors=5, p=3, algorithm=ball_tree, score=0.891358 -   1.5s\n",
      "[CV] n_neighbors=5, p=3, algorithm=ball_tree .........................\n",
      "[CV]  n_neighbors=5, p=3, algorithm=ball_tree, score=0.897500 -   1.5s\n",
      "[CV] n_neighbors=5, p=3, algorithm=ball_tree .........................\n",
      "[CV]  n_neighbors=5, p=3, algorithm=ball_tree, score=0.884422 -   1.5s\n",
      "[CV] n_neighbors=5, p=3, algorithm=ball_tree .........................\n",
      "[CV]  n_neighbors=5, p=3, algorithm=ball_tree, score=0.883249 -   1.5s\n",
      "[CV] n_neighbors=9, p=1, algorithm=ball_tree .........................\n",
      "[CV]  n_neighbors=9, p=1, algorithm=ball_tree, score=0.875000 -   0.0s\n",
      "[CV] n_neighbors=9, p=1, algorithm=ball_tree .........................\n",
      "[CV]  n_neighbors=9, p=1, algorithm=ball_tree, score=0.911007 -   0.0s\n",
      "[CV] n_neighbors=9, p=1, algorithm=ball_tree .........................\n",
      "[CV]  n_neighbors=9, p=1, algorithm=ball_tree, score=0.905213 -   0.0s\n",
      "[CV] n_neighbors=9, p=1, algorithm=ball_tree .........................\n",
      "[CV]  n_neighbors=9, p=1, algorithm=ball_tree, score=0.920863 -   0.0s\n",
      "[CV] n_neighbors=9, p=1, algorithm=ball_tree .........................\n",
      "[CV]  n_neighbors=9, p=1, algorithm=ball_tree, score=0.917275 -   0.0s\n",
      "[CV] n_neighbors=9, p=1, algorithm=ball_tree .........................\n",
      "[CV]  n_neighbors=9, p=1, algorithm=ball_tree, score=0.921182 -   0.0s\n",
      "[CV] n_neighbors=9, p=1, algorithm=ball_tree .........................\n",
      "[CV]  n_neighbors=9, p=1, algorithm=ball_tree, score=0.925926 -   0.0s\n",
      "[CV] n_neighbors=9, p=1, algorithm=ball_tree .........................\n",
      "[CV]  n_neighbors=9, p=1, algorithm=ball_tree, score=0.910000 -   0.0s\n",
      "[CV] n_neighbors=9, p=1, algorithm=ball_tree .........................\n",
      "[CV]  n_neighbors=9, p=1, algorithm=ball_tree, score=0.914573 -   0.0s\n",
      "[CV] n_neighbors=9, p=1, algorithm=ball_tree .........................\n",
      "[CV]  n_neighbors=9, p=1, algorithm=ball_tree, score=0.913706 -   0.0s\n",
      "[CV] n_neighbors=9, p=2, algorithm=ball_tree .........................\n",
      "[CV]  n_neighbors=9, p=2, algorithm=ball_tree, score=0.861111 -   0.0s\n",
      "[CV] n_neighbors=9, p=2, algorithm=ball_tree .........................\n",
      "[CV]  n_neighbors=9, p=2, algorithm=ball_tree, score=0.894614 -   0.0s\n",
      "[CV] n_neighbors=9, p=2, algorithm=ball_tree .........................\n",
      "[CV]  n_neighbors=9, p=2, algorithm=ball_tree, score=0.881517 -   0.0s\n",
      "[CV] n_neighbors=9, p=2, algorithm=ball_tree .........................\n",
      "[CV]  n_neighbors=9, p=2, algorithm=ball_tree, score=0.904077 -   0.0s\n",
      "[CV] n_neighbors=9, p=2, algorithm=ball_tree .........................\n",
      "[CV]  n_neighbors=9, p=2, algorithm=ball_tree, score=0.895377 -   0.0s\n",
      "[CV] n_neighbors=9, p=2, algorithm=ball_tree .........................\n",
      "[CV]  n_neighbors=9, p=2, algorithm=ball_tree, score=0.908867 -   0.0s\n",
      "[CV] n_neighbors=9, p=2, algorithm=ball_tree .........................\n",
      "[CV]  n_neighbors=9, p=2, algorithm=ball_tree, score=0.901235 -   0.0s\n",
      "[CV] n_neighbors=9, p=2, algorithm=ball_tree .........................\n",
      "[CV]  n_neighbors=9, p=2, algorithm=ball_tree, score=0.892500 -   0.0s\n",
      "[CV] n_neighbors=9, p=2, algorithm=ball_tree .........................\n",
      "[CV]  n_neighbors=9, p=2, algorithm=ball_tree, score=0.876884 -   0.0s\n",
      "[CV] n_neighbors=9, p=2, algorithm=ball_tree .........................\n",
      "[CV]  n_neighbors=9, p=2, algorithm=ball_tree, score=0.893401 -   0.0s\n",
      "[CV] n_neighbors=9, p=3, algorithm=ball_tree .........................\n",
      "[CV]  n_neighbors=9, p=3, algorithm=ball_tree, score=0.847222 -   1.5s\n",
      "[CV] n_neighbors=9, p=3, algorithm=ball_tree .........................\n",
      "[CV]  n_neighbors=9, p=3, algorithm=ball_tree, score=0.885246 -   1.6s\n",
      "[CV] n_neighbors=9, p=3, algorithm=ball_tree .........................\n",
      "[CV]  n_neighbors=9, p=3, algorithm=ball_tree, score=0.879147 -   1.6s\n",
      "[CV] n_neighbors=9, p=3, algorithm=ball_tree .........................\n",
      "[CV]  n_neighbors=9, p=3, algorithm=ball_tree, score=0.870504 -   1.6s\n",
      "[CV] n_neighbors=9, p=3, algorithm=ball_tree .........................\n",
      "[CV]  n_neighbors=9, p=3, algorithm=ball_tree, score=0.890511 -   1.5s\n",
      "[CV] n_neighbors=9, p=3, algorithm=ball_tree .........................\n",
      "[CV]  n_neighbors=9, p=3, algorithm=ball_tree, score=0.911330 -   1.5s\n",
      "[CV] n_neighbors=9, p=3, algorithm=ball_tree .........................\n",
      "[CV]  n_neighbors=9, p=3, algorithm=ball_tree, score=0.879012 -   1.5s\n",
      "[CV] n_neighbors=9, p=3, algorithm=ball_tree .........................\n",
      "[CV]  n_neighbors=9, p=3, algorithm=ball_tree, score=0.887500 -   1.5s\n",
      "[CV] n_neighbors=9, p=3, algorithm=ball_tree .........................\n",
      "[CV]  n_neighbors=9, p=3, algorithm=ball_tree, score=0.871859 -   1.5s\n",
      "[CV] n_neighbors=9, p=3, algorithm=ball_tree .........................\n",
      "[CV]  n_neighbors=9, p=3, algorithm=ball_tree, score=0.875635 -   1.5s\n",
      "[CV] n_neighbors=15, p=1, algorithm=ball_tree ........................\n",
      "[CV]  n_neighbors=15, p=1, algorithm=ball_tree, score=0.872685 -   0.0s\n",
      "[CV] n_neighbors=15, p=1, algorithm=ball_tree ........................\n",
      "[CV]  n_neighbors=15, p=1, algorithm=ball_tree, score=0.901639 -   0.0s\n",
      "[CV] n_neighbors=15, p=1, algorithm=ball_tree ........................\n",
      "[CV]  n_neighbors=15, p=1, algorithm=ball_tree, score=0.879147 -   0.0s\n",
      "[CV] n_neighbors=15, p=1, algorithm=ball_tree ........................\n",
      "[CV]  n_neighbors=15, p=1, algorithm=ball_tree, score=0.911271 -   0.0s\n",
      "[CV] n_neighbors=15, p=1, algorithm=ball_tree ........................\n",
      "[CV]  n_neighbors=15, p=1, algorithm=ball_tree, score=0.892944 -   0.0s\n",
      "[CV] n_neighbors=15, p=1, algorithm=ball_tree ........................\n",
      "[CV]  n_neighbors=15, p=1, algorithm=ball_tree, score=0.903941 -   0.0s\n",
      "[CV] n_neighbors=15, p=1, algorithm=ball_tree ........................\n",
      "[CV]  n_neighbors=15, p=1, algorithm=ball_tree, score=0.925926 -   0.0s\n",
      "[CV] n_neighbors=15, p=1, algorithm=ball_tree ........................\n",
      "[CV]  n_neighbors=15, p=1, algorithm=ball_tree, score=0.900000 -   0.0s\n",
      "[CV] n_neighbors=15, p=1, algorithm=ball_tree ........................\n",
      "[CV]  n_neighbors=15, p=1, algorithm=ball_tree, score=0.886935 -   0.0s\n",
      "[CV] n_neighbors=15, p=1, algorithm=ball_tree ........................\n",
      "[CV]  n_neighbors=15, p=1, algorithm=ball_tree, score=0.901015 -   0.0s\n",
      "[CV] n_neighbors=15, p=2, algorithm=ball_tree ........................\n",
      "[CV]  n_neighbors=15, p=2, algorithm=ball_tree, score=0.849537 -   0.1s\n",
      "[CV] n_neighbors=15, p=2, algorithm=ball_tree ........................\n",
      "[CV]  n_neighbors=15, p=2, algorithm=ball_tree, score=0.873536 -   0.1s\n",
      "[CV] n_neighbors=15, p=2, algorithm=ball_tree ........................\n",
      "[CV]  n_neighbors=15, p=2, algorithm=ball_tree, score=0.869668 -   0.0s\n",
      "[CV] n_neighbors=15, p=2, algorithm=ball_tree ........................\n",
      "[CV]  n_neighbors=15, p=2, algorithm=ball_tree, score=0.889688 -   0.0s\n",
      "[CV] n_neighbors=15, p=2, algorithm=ball_tree ........................\n",
      "[CV]  n_neighbors=15, p=2, algorithm=ball_tree, score=0.883212 -   0.0s\n",
      "[CV] n_neighbors=15, p=2, algorithm=ball_tree ........................\n",
      "[CV]  n_neighbors=15, p=2, algorithm=ball_tree, score=0.894089 -   0.0s\n",
      "[CV] n_neighbors=15, p=2, algorithm=ball_tree ........................\n",
      "[CV]  n_neighbors=15, p=2, algorithm=ball_tree, score=0.876543 -   0.0s\n",
      "[CV] n_neighbors=15, p=2, algorithm=ball_tree ........................\n",
      "[CV]  n_neighbors=15, p=2, algorithm=ball_tree, score=0.867500 -   0.0s\n",
      "[CV] n_neighbors=15, p=2, algorithm=ball_tree ........................\n",
      "[CV]  n_neighbors=15, p=2, algorithm=ball_tree, score=0.861809 -   0.0s\n",
      "[CV] n_neighbors=15, p=2, algorithm=ball_tree ........................\n",
      "[CV]  n_neighbors=15, p=2, algorithm=ball_tree, score=0.885787 -   0.0s\n",
      "[CV] n_neighbors=15, p=3, algorithm=ball_tree ........................\n",
      "[CV]  n_neighbors=15, p=3, algorithm=ball_tree, score=0.840278 -   1.6s\n",
      "[CV] n_neighbors=15, p=3, algorithm=ball_tree ........................\n",
      "[CV]  n_neighbors=15, p=3, algorithm=ball_tree, score=0.861827 -   1.6s\n",
      "[CV] n_neighbors=15, p=3, algorithm=ball_tree ........................\n",
      "[CV]  n_neighbors=15, p=3, algorithm=ball_tree, score=0.853081 -   1.6s\n",
      "[CV] n_neighbors=15, p=3, algorithm=ball_tree ........................\n",
      "[CV]  n_neighbors=15, p=3, algorithm=ball_tree, score=0.860911 -   1.6s\n",
      "[CV] n_neighbors=15, p=3, algorithm=ball_tree ........................\n",
      "[CV]  n_neighbors=15, p=3, algorithm=ball_tree, score=0.875912 -   1.5s\n",
      "[CV] n_neighbors=15, p=3, algorithm=ball_tree ........................\n",
      "[CV]  n_neighbors=15, p=3, algorithm=ball_tree, score=0.879310 -   1.6s\n",
      "[CV] n_neighbors=15, p=3, algorithm=ball_tree ........................\n",
      "[CV]  n_neighbors=15, p=3, algorithm=ball_tree, score=0.883951 -   1.5s\n",
      "[CV] n_neighbors=15, p=3, algorithm=ball_tree ........................\n",
      "[CV]  n_neighbors=15, p=3, algorithm=ball_tree, score=0.870000 -   1.5s\n",
      "[CV] n_neighbors=15, p=3, algorithm=ball_tree ........................\n",
      "[CV]  n_neighbors=15, p=3, algorithm=ball_tree, score=0.851759 -   1.5s\n",
      "[CV] n_neighbors=15, p=3, algorithm=ball_tree ........................\n",
      "[CV]  n_neighbors=15, p=3, algorithm=ball_tree, score=0.862944 -   1.5s\n",
      "[CV] n_neighbors=3, p=1, algorithm=kd_tree ...........................\n",
      "[CV] .. n_neighbors=3, p=1, algorithm=kd_tree, score=0.900463 -   0.0s\n",
      "[CV] n_neighbors=3, p=1, algorithm=kd_tree ...........................\n",
      "[CV] .. n_neighbors=3, p=1, algorithm=kd_tree, score=0.936768 -   0.0s\n",
      "[CV] n_neighbors=3, p=1, algorithm=kd_tree ...........................\n",
      "[CV] .. n_neighbors=3, p=1, algorithm=kd_tree, score=0.926540 -   0.0s\n",
      "[CV] n_neighbors=3, p=1, algorithm=kd_tree ...........................\n",
      "[CV] .. n_neighbors=3, p=1, algorithm=kd_tree, score=0.920863 -   0.0s\n",
      "[CV] n_neighbors=3, p=1, algorithm=kd_tree ...........................\n",
      "[CV] .. n_neighbors=3, p=1, algorithm=kd_tree, score=0.931873 -   0.0s\n",
      "[CV] n_neighbors=3, p=1, algorithm=kd_tree ...........................\n",
      "[CV] .. n_neighbors=3, p=1, algorithm=kd_tree, score=0.945813 -   0.0s\n",
      "[CV] n_neighbors=3, p=1, algorithm=kd_tree ...........................\n",
      "[CV] .. n_neighbors=3, p=1, algorithm=kd_tree, score=0.933333 -   0.0s\n",
      "[CV] n_neighbors=3, p=1, algorithm=kd_tree ...........................\n",
      "[CV] .. n_neighbors=3, p=1, algorithm=kd_tree, score=0.935000 -   0.0s\n",
      "[CV] n_neighbors=3, p=1, algorithm=kd_tree ...........................\n",
      "[CV] .. n_neighbors=3, p=1, algorithm=kd_tree, score=0.924623 -   0.0s\n",
      "[CV] n_neighbors=3, p=1, algorithm=kd_tree ...........................\n",
      "[CV] .. n_neighbors=3, p=1, algorithm=kd_tree, score=0.916244 -   0.0s\n",
      "[CV] n_neighbors=3, p=2, algorithm=kd_tree ...........................\n",
      "[CV] .. n_neighbors=3, p=2, algorithm=kd_tree, score=0.886574 -   0.0s\n",
      "[CV] n_neighbors=3, p=2, algorithm=kd_tree ...........................\n",
      "[CV] .. n_neighbors=3, p=2, algorithm=kd_tree, score=0.925059 -   0.0s\n",
      "[CV] n_neighbors=3, p=2, algorithm=kd_tree ...........................\n",
      "[CV] .. n_neighbors=3, p=2, algorithm=kd_tree, score=0.907583 -   0.0s\n",
      "[CV] n_neighbors=3, p=2, algorithm=kd_tree ...........................\n",
      "[CV] .. n_neighbors=3, p=2, algorithm=kd_tree, score=0.899281 -   0.0s\n",
      "[CV] n_neighbors=3, p=2, algorithm=kd_tree ...........................\n",
      "[CV] .. n_neighbors=3, p=2, algorithm=kd_tree, score=0.907543 -   0.0s\n",
      "[CV] n_neighbors=3, p=2, algorithm=kd_tree ...........................\n",
      "[CV] .. n_neighbors=3, p=2, algorithm=kd_tree, score=0.916256 -   0.0s\n",
      "[CV] n_neighbors=3, p=2, algorithm=kd_tree ...........................\n",
      "[CV] .. n_neighbors=3, p=2, algorithm=kd_tree, score=0.913580 -   0.0s\n",
      "[CV] n_neighbors=3, p=2, algorithm=kd_tree ...........................\n",
      "[CV] .. n_neighbors=3, p=2, algorithm=kd_tree, score=0.930000 -   0.0s\n",
      "[CV] n_neighbors=3, p=2, algorithm=kd_tree ...........................\n",
      "[CV] .. n_neighbors=3, p=2, algorithm=kd_tree, score=0.899497 -   0.0s\n",
      "[CV] n_neighbors=3, p=2, algorithm=kd_tree ...........................\n",
      "[CV] .. n_neighbors=3, p=2, algorithm=kd_tree, score=0.908629 -   0.0s\n",
      "[CV] n_neighbors=3, p=3, algorithm=kd_tree ...........................\n",
      "[CV] .. n_neighbors=3, p=3, algorithm=kd_tree, score=0.879630 -   0.4s\n",
      "[CV] n_neighbors=3, p=3, algorithm=kd_tree ...........................\n",
      "[CV] .. n_neighbors=3, p=3, algorithm=kd_tree, score=0.915691 -   0.3s\n",
      "[CV] n_neighbors=3, p=3, algorithm=kd_tree ...........................\n",
      "[CV] .. n_neighbors=3, p=3, algorithm=kd_tree, score=0.895735 -   0.4s\n",
      "[CV] n_neighbors=3, p=3, algorithm=kd_tree ...........................\n",
      "[CV] .. n_neighbors=3, p=3, algorithm=kd_tree, score=0.884892 -   0.3s\n",
      "[CV] n_neighbors=3, p=3, algorithm=kd_tree ...........................\n",
      "[CV] .. n_neighbors=3, p=3, algorithm=kd_tree, score=0.917275 -   0.4s\n",
      "[CV] n_neighbors=3, p=3, algorithm=kd_tree ...........................\n",
      "[CV] .. n_neighbors=3, p=3, algorithm=kd_tree, score=0.901478 -   0.3s\n",
      "[CV] n_neighbors=3, p=3, algorithm=kd_tree ...........................\n",
      "[CV] .. n_neighbors=3, p=3, algorithm=kd_tree, score=0.906173 -   0.3s\n",
      "[CV] n_neighbors=3, p=3, algorithm=kd_tree ...........................\n",
      "[CV] .. n_neighbors=3, p=3, algorithm=kd_tree, score=0.900000 -   0.3s\n",
      "[CV] n_neighbors=3, p=3, algorithm=kd_tree ...........................\n",
      "[CV] .. n_neighbors=3, p=3, algorithm=kd_tree, score=0.881910 -   0.3s\n",
      "[CV] n_neighbors=3, p=3, algorithm=kd_tree ...........................\n",
      "[CV] .. n_neighbors=3, p=3, algorithm=kd_tree, score=0.895939 -   0.3s\n",
      "[CV] n_neighbors=5, p=1, algorithm=kd_tree ...........................\n",
      "[CV] .. n_neighbors=5, p=1, algorithm=kd_tree, score=0.888889 -   0.0s\n",
      "[CV] n_neighbors=5, p=1, algorithm=kd_tree ...........................\n",
      "[CV] .. n_neighbors=5, p=1, algorithm=kd_tree, score=0.929742 -   0.0s\n",
      "[CV] n_neighbors=5, p=1, algorithm=kd_tree ...........................\n",
      "[CV] .. n_neighbors=5, p=1, algorithm=kd_tree, score=0.919431 -   0.0s\n",
      "[CV] n_neighbors=5, p=1, algorithm=kd_tree ...........................\n",
      "[CV] .. n_neighbors=5, p=1, algorithm=kd_tree, score=0.940048 -   0.0s\n",
      "[CV] n_neighbors=5, p=1, algorithm=kd_tree ...........................\n",
      "[CV] .. n_neighbors=5, p=1, algorithm=kd_tree, score=0.927007 -   0.0s\n",
      "[CV] n_neighbors=5, p=1, algorithm=kd_tree ...........................\n",
      "[CV] .. n_neighbors=5, p=1, algorithm=kd_tree, score=0.928571 -   0.0s\n",
      "[CV] n_neighbors=5, p=1, algorithm=kd_tree ...........................\n",
      "[CV] .. n_neighbors=5, p=1, algorithm=kd_tree, score=0.943210 -   0.0s\n",
      "[CV] n_neighbors=5, p=1, algorithm=kd_tree ...........................\n",
      "[CV] .. n_neighbors=5, p=1, algorithm=kd_tree, score=0.942500 -   0.0s\n",
      "[CV] n_neighbors=5, p=1, algorithm=kd_tree ...........................\n",
      "[CV] .. n_neighbors=5, p=1, algorithm=kd_tree, score=0.919598 -   0.0s\n",
      "[CV] n_neighbors=5, p=1, algorithm=kd_tree ...........................\n",
      "[CV] .. n_neighbors=5, p=1, algorithm=kd_tree, score=0.918782 -   0.0s\n",
      "[CV] n_neighbors=5, p=2, algorithm=kd_tree ...........................\n",
      "[CV] .. n_neighbors=5, p=2, algorithm=kd_tree, score=0.879630 -   0.0s\n",
      "[CV] n_neighbors=5, p=2, algorithm=kd_tree ...........................\n",
      "[CV] .. n_neighbors=5, p=2, algorithm=kd_tree, score=0.920375 -   0.0s\n",
      "[CV] n_neighbors=5, p=2, algorithm=kd_tree ...........................\n",
      "[CV] .. n_neighbors=5, p=2, algorithm=kd_tree, score=0.895735 -   0.0s\n",
      "[CV] n_neighbors=5, p=2, algorithm=kd_tree ...........................\n",
      "[CV] .. n_neighbors=5, p=2, algorithm=kd_tree, score=0.906475 -   0.0s\n",
      "[CV] n_neighbors=5, p=2, algorithm=kd_tree ...........................\n",
      "[CV] .. n_neighbors=5, p=2, algorithm=kd_tree, score=0.924574 -   0.0s\n",
      "[CV] n_neighbors=5, p=2, algorithm=kd_tree ...........................\n",
      "[CV] .. n_neighbors=5, p=2, algorithm=kd_tree, score=0.918719 -   0.0s\n",
      "[CV] n_neighbors=5, p=2, algorithm=kd_tree ...........................\n",
      "[CV] .. n_neighbors=5, p=2, algorithm=kd_tree, score=0.911111 -   0.0s\n",
      "[CV] n_neighbors=5, p=2, algorithm=kd_tree ...........................\n",
      "[CV] .. n_neighbors=5, p=2, algorithm=kd_tree, score=0.920000 -   0.0s\n",
      "[CV] n_neighbors=5, p=2, algorithm=kd_tree ...........................\n",
      "[CV] .. n_neighbors=5, p=2, algorithm=kd_tree, score=0.907035 -   0.0s\n",
      "[CV] n_neighbors=5, p=2, algorithm=kd_tree ...........................\n",
      "[CV] .. n_neighbors=5, p=2, algorithm=kd_tree, score=0.901015 -   0.0s\n",
      "[CV] n_neighbors=5, p=3, algorithm=kd_tree ...........................\n",
      "[CV] .. n_neighbors=5, p=3, algorithm=kd_tree, score=0.865741 -   0.4s\n",
      "[CV] n_neighbors=5, p=3, algorithm=kd_tree ...........................\n",
      "[CV] .. n_neighbors=5, p=3, algorithm=kd_tree, score=0.899297 -   0.4s\n",
      "[CV] n_neighbors=5, p=3, algorithm=kd_tree ...........................\n",
      "[CV] .. n_neighbors=5, p=3, algorithm=kd_tree, score=0.883886 -   0.4s\n",
      "[CV] n_neighbors=5, p=3, algorithm=kd_tree ...........................\n",
      "[CV] .. n_neighbors=5, p=3, algorithm=kd_tree, score=0.896882 -   0.4s\n",
      "[CV] n_neighbors=5, p=3, algorithm=kd_tree ...........................\n",
      "[CV] .. n_neighbors=5, p=3, algorithm=kd_tree, score=0.907543 -   0.4s\n",
      "[CV] n_neighbors=5, p=3, algorithm=kd_tree ...........................\n",
      "[CV] .. n_neighbors=5, p=3, algorithm=kd_tree, score=0.901478 -   0.4s\n",
      "[CV] n_neighbors=5, p=3, algorithm=kd_tree ...........................\n",
      "[CV] .. n_neighbors=5, p=3, algorithm=kd_tree, score=0.891358 -   0.4s\n",
      "[CV] n_neighbors=5, p=3, algorithm=kd_tree ...........................\n",
      "[CV] .. n_neighbors=5, p=3, algorithm=kd_tree, score=0.897500 -   0.4s\n",
      "[CV] n_neighbors=5, p=3, algorithm=kd_tree ...........................\n",
      "[CV] .. n_neighbors=5, p=3, algorithm=kd_tree, score=0.884422 -   0.4s\n",
      "[CV] n_neighbors=5, p=3, algorithm=kd_tree ...........................\n",
      "[CV] .. n_neighbors=5, p=3, algorithm=kd_tree, score=0.883249 -   0.4s\n",
      "[CV] n_neighbors=9, p=1, algorithm=kd_tree ...........................\n",
      "[CV] .. n_neighbors=9, p=1, algorithm=kd_tree, score=0.875000 -   0.0s\n",
      "[CV] n_neighbors=9, p=1, algorithm=kd_tree ...........................\n",
      "[CV] .. n_neighbors=9, p=1, algorithm=kd_tree, score=0.911007 -   0.0s\n",
      "[CV] n_neighbors=9, p=1, algorithm=kd_tree ...........................\n",
      "[CV] .. n_neighbors=9, p=1, algorithm=kd_tree, score=0.905213 -   0.0s\n",
      "[CV] n_neighbors=9, p=1, algorithm=kd_tree ...........................\n",
      "[CV] .. n_neighbors=9, p=1, algorithm=kd_tree, score=0.920863 -   0.0s\n",
      "[CV] n_neighbors=9, p=1, algorithm=kd_tree ...........................\n",
      "[CV] .. n_neighbors=9, p=1, algorithm=kd_tree, score=0.917275 -   0.0s\n",
      "[CV] n_neighbors=9, p=1, algorithm=kd_tree ...........................\n",
      "[CV] .. n_neighbors=9, p=1, algorithm=kd_tree, score=0.921182 -   0.0s\n",
      "[CV] n_neighbors=9, p=1, algorithm=kd_tree ...........................\n",
      "[CV] .. n_neighbors=9, p=1, algorithm=kd_tree, score=0.925926 -   0.0s\n",
      "[CV] n_neighbors=9, p=1, algorithm=kd_tree ...........................\n",
      "[CV] .. n_neighbors=9, p=1, algorithm=kd_tree, score=0.910000 -   0.0s\n",
      "[CV] n_neighbors=9, p=1, algorithm=kd_tree ...........................\n",
      "[CV] .. n_neighbors=9, p=1, algorithm=kd_tree, score=0.914573 -   0.0s\n",
      "[CV] n_neighbors=9, p=1, algorithm=kd_tree ...........................\n",
      "[CV] .. n_neighbors=9, p=1, algorithm=kd_tree, score=0.913706 -   0.0s\n",
      "[CV] n_neighbors=9, p=2, algorithm=kd_tree ...........................\n",
      "[CV] .. n_neighbors=9, p=2, algorithm=kd_tree, score=0.861111 -   0.0s\n",
      "[CV] n_neighbors=9, p=2, algorithm=kd_tree ...........................\n",
      "[CV] .. n_neighbors=9, p=2, algorithm=kd_tree, score=0.894614 -   0.0s\n",
      "[CV] n_neighbors=9, p=2, algorithm=kd_tree ...........................\n",
      "[CV] .. n_neighbors=9, p=2, algorithm=kd_tree, score=0.881517 -   0.0s\n",
      "[CV] n_neighbors=9, p=2, algorithm=kd_tree ...........................\n",
      "[CV] .. n_neighbors=9, p=2, algorithm=kd_tree, score=0.904077 -   0.0s\n",
      "[CV] n_neighbors=9, p=2, algorithm=kd_tree ...........................\n",
      "[CV] .. n_neighbors=9, p=2, algorithm=kd_tree, score=0.895377 -   0.0s\n",
      "[CV] n_neighbors=9, p=2, algorithm=kd_tree ...........................\n",
      "[CV] .. n_neighbors=9, p=2, algorithm=kd_tree, score=0.908867 -   0.0s\n",
      "[CV] n_neighbors=9, p=2, algorithm=kd_tree ...........................\n",
      "[CV] .. n_neighbors=9, p=2, algorithm=kd_tree, score=0.901235 -   0.0s\n",
      "[CV] n_neighbors=9, p=2, algorithm=kd_tree ...........................\n",
      "[CV] .. n_neighbors=9, p=2, algorithm=kd_tree, score=0.892500 -   0.0s\n",
      "[CV] n_neighbors=9, p=2, algorithm=kd_tree ...........................\n",
      "[CV] .. n_neighbors=9, p=2, algorithm=kd_tree, score=0.876884 -   0.0s\n",
      "[CV] n_neighbors=9, p=2, algorithm=kd_tree ...........................\n",
      "[CV] .. n_neighbors=9, p=2, algorithm=kd_tree, score=0.893401 -   0.0s\n",
      "[CV] n_neighbors=9, p=3, algorithm=kd_tree ...........................\n",
      "[CV] .. n_neighbors=9, p=3, algorithm=kd_tree, score=0.847222 -   0.6s\n",
      "[CV] n_neighbors=9, p=3, algorithm=kd_tree ...........................\n",
      "[CV] .. n_neighbors=9, p=3, algorithm=kd_tree, score=0.885246 -   0.5s\n",
      "[CV] n_neighbors=9, p=3, algorithm=kd_tree ...........................\n",
      "[CV] .. n_neighbors=9, p=3, algorithm=kd_tree, score=0.879147 -   0.6s\n",
      "[CV] n_neighbors=9, p=3, algorithm=kd_tree ...........................\n",
      "[CV] .. n_neighbors=9, p=3, algorithm=kd_tree, score=0.870504 -   0.6s\n",
      "[CV] n_neighbors=9, p=3, algorithm=kd_tree ...........................\n",
      "[CV] .. n_neighbors=9, p=3, algorithm=kd_tree, score=0.890511 -   0.5s\n",
      "[CV] n_neighbors=9, p=3, algorithm=kd_tree ...........................\n",
      "[CV] .. n_neighbors=9, p=3, algorithm=kd_tree, score=0.911330 -   0.5s\n",
      "[CV] n_neighbors=9, p=3, algorithm=kd_tree ...........................\n",
      "[CV] .. n_neighbors=9, p=3, algorithm=kd_tree, score=0.879012 -   0.5s\n",
      "[CV] n_neighbors=9, p=3, algorithm=kd_tree ...........................\n",
      "[CV] .. n_neighbors=9, p=3, algorithm=kd_tree, score=0.887500 -   0.5s\n",
      "[CV] n_neighbors=9, p=3, algorithm=kd_tree ...........................\n",
      "[CV] .. n_neighbors=9, p=3, algorithm=kd_tree, score=0.871859 -   0.5s\n",
      "[CV] n_neighbors=9, p=3, algorithm=kd_tree ...........................\n",
      "[CV] .. n_neighbors=9, p=3, algorithm=kd_tree, score=0.875635 -   0.5s\n",
      "[CV] n_neighbors=15, p=1, algorithm=kd_tree ..........................\n",
      "[CV] . n_neighbors=15, p=1, algorithm=kd_tree, score=0.872685 -   0.0s\n",
      "[CV] n_neighbors=15, p=1, algorithm=kd_tree ..........................\n",
      "[CV] . n_neighbors=15, p=1, algorithm=kd_tree, score=0.901639 -   0.0s\n",
      "[CV] n_neighbors=15, p=1, algorithm=kd_tree ..........................\n",
      "[CV] . n_neighbors=15, p=1, algorithm=kd_tree, score=0.879147 -   0.0s\n",
      "[CV] n_neighbors=15, p=1, algorithm=kd_tree ..........................\n",
      "[CV] . n_neighbors=15, p=1, algorithm=kd_tree, score=0.911271 -   0.0s\n",
      "[CV] n_neighbors=15, p=1, algorithm=kd_tree ..........................\n",
      "[CV] . n_neighbors=15, p=1, algorithm=kd_tree, score=0.892944 -   0.0s\n",
      "[CV] n_neighbors=15, p=1, algorithm=kd_tree ..........................\n",
      "[CV] . n_neighbors=15, p=1, algorithm=kd_tree, score=0.903941 -   0.0s\n",
      "[CV] n_neighbors=15, p=1, algorithm=kd_tree ..........................\n",
      "[CV] . n_neighbors=15, p=1, algorithm=kd_tree, score=0.925926 -   0.0s\n",
      "[CV] n_neighbors=15, p=1, algorithm=kd_tree ..........................\n",
      "[CV] . n_neighbors=15, p=1, algorithm=kd_tree, score=0.900000 -   0.0s\n",
      "[CV] n_neighbors=15, p=1, algorithm=kd_tree ..........................\n",
      "[CV] . n_neighbors=15, p=1, algorithm=kd_tree, score=0.886935 -   0.0s\n",
      "[CV] n_neighbors=15, p=1, algorithm=kd_tree ..........................\n",
      "[CV] . n_neighbors=15, p=1, algorithm=kd_tree, score=0.901015 -   0.0s\n",
      "[CV] n_neighbors=15, p=2, algorithm=kd_tree ..........................\n",
      "[CV] . n_neighbors=15, p=2, algorithm=kd_tree, score=0.849537 -   0.0s\n",
      "[CV] n_neighbors=15, p=2, algorithm=kd_tree ..........................\n",
      "[CV] . n_neighbors=15, p=2, algorithm=kd_tree, score=0.873536 -   0.0s\n",
      "[CV] n_neighbors=15, p=2, algorithm=kd_tree ..........................\n",
      "[CV] . n_neighbors=15, p=2, algorithm=kd_tree, score=0.869668 -   0.0s\n",
      "[CV] n_neighbors=15, p=2, algorithm=kd_tree ..........................\n",
      "[CV] . n_neighbors=15, p=2, algorithm=kd_tree, score=0.889688 -   0.0s\n",
      "[CV] n_neighbors=15, p=2, algorithm=kd_tree ..........................\n",
      "[CV] . n_neighbors=15, p=2, algorithm=kd_tree, score=0.883212 -   0.0s\n",
      "[CV] n_neighbors=15, p=2, algorithm=kd_tree ..........................\n",
      "[CV] . n_neighbors=15, p=2, algorithm=kd_tree, score=0.894089 -   0.0s\n",
      "[CV] n_neighbors=15, p=2, algorithm=kd_tree ..........................\n",
      "[CV] . n_neighbors=15, p=2, algorithm=kd_tree, score=0.876543 -   0.0s\n",
      "[CV] n_neighbors=15, p=2, algorithm=kd_tree ..........................\n",
      "[CV] . n_neighbors=15, p=2, algorithm=kd_tree, score=0.867500 -   0.0s\n",
      "[CV] n_neighbors=15, p=2, algorithm=kd_tree ..........................\n",
      "[CV] . n_neighbors=15, p=2, algorithm=kd_tree, score=0.861809 -   0.0s\n",
      "[CV] n_neighbors=15, p=2, algorithm=kd_tree ..........................\n",
      "[CV] . n_neighbors=15, p=2, algorithm=kd_tree, score=0.885787 -   0.0s\n",
      "[CV] n_neighbors=15, p=3, algorithm=kd_tree ..........................\n",
      "[CV] . n_neighbors=15, p=3, algorithm=kd_tree, score=0.840278 -   0.8s\n",
      "[CV] n_neighbors=15, p=3, algorithm=kd_tree ..........................\n",
      "[CV] . n_neighbors=15, p=3, algorithm=kd_tree, score=0.861827 -   0.7s\n",
      "[CV] n_neighbors=15, p=3, algorithm=kd_tree ..........................\n",
      "[CV] . n_neighbors=15, p=3, algorithm=kd_tree, score=0.853081 -   0.8s\n",
      "[CV] n_neighbors=15, p=3, algorithm=kd_tree ..........................\n",
      "[CV] . n_neighbors=15, p=3, algorithm=kd_tree, score=0.860911 -   0.7s\n",
      "[CV] n_neighbors=15, p=3, algorithm=kd_tree ..........................\n",
      "[CV] . n_neighbors=15, p=3, algorithm=kd_tree, score=0.875912 -   0.7s\n",
      "[CV] n_neighbors=15, p=3, algorithm=kd_tree ..........................\n",
      "[CV] . n_neighbors=15, p=3, algorithm=kd_tree, score=0.879310 -   0.7s\n",
      "[CV] n_neighbors=15, p=3, algorithm=kd_tree ..........................\n",
      "[CV] . n_neighbors=15, p=3, algorithm=kd_tree, score=0.883951 -   0.8s\n",
      "[CV] n_neighbors=15, p=3, algorithm=kd_tree ..........................\n",
      "[CV] . n_neighbors=15, p=3, algorithm=kd_tree, score=0.870000 -   0.9s\n",
      "[CV] n_neighbors=15, p=3, algorithm=kd_tree ..........................\n",
      "[CV] . n_neighbors=15, p=3, algorithm=kd_tree, score=0.851759 -   0.9s\n",
      "[CV] n_neighbors=15, p=3, algorithm=kd_tree ..........................\n",
      "[CV] . n_neighbors=15, p=3, algorithm=kd_tree, score=0.862944 -   0.8s\n",
      "[CV] n_neighbors=3, p=1, algorithm=brute .............................\n",
      "[CV] .... n_neighbors=3, p=1, algorithm=brute, score=0.900463 -   0.0s\n",
      "[CV] n_neighbors=3, p=1, algorithm=brute .............................\n",
      "[CV] .... n_neighbors=3, p=1, algorithm=brute, score=0.936768 -   0.0s\n",
      "[CV] n_neighbors=3, p=1, algorithm=brute .............................\n",
      "[CV] .... n_neighbors=3, p=1, algorithm=brute, score=0.926540 -   0.0s\n",
      "[CV] n_neighbors=3, p=1, algorithm=brute .............................\n",
      "[CV] .... n_neighbors=3, p=1, algorithm=brute, score=0.920863 -   0.0s\n",
      "[CV] n_neighbors=3, p=1, algorithm=brute .............................\n",
      "[CV] .... n_neighbors=3, p=1, algorithm=brute, score=0.931873 -   0.0s\n",
      "[CV] n_neighbors=3, p=1, algorithm=brute .............................\n",
      "[CV] .... n_neighbors=3, p=1, algorithm=brute, score=0.945813 -   0.0s\n",
      "[CV] n_neighbors=3, p=1, algorithm=brute .............................\n",
      "[CV] .... n_neighbors=3, p=1, algorithm=brute, score=0.933333 -   0.0s\n",
      "[CV] n_neighbors=3, p=1, algorithm=brute .............................\n",
      "[CV] .... n_neighbors=3, p=1, algorithm=brute, score=0.935000 -   0.0s\n",
      "[CV] n_neighbors=3, p=1, algorithm=brute .............................\n",
      "[CV] .... n_neighbors=3, p=1, algorithm=brute, score=0.924623 -   0.0s\n",
      "[CV] n_neighbors=3, p=1, algorithm=brute .............................\n",
      "[CV] .... n_neighbors=3, p=1, algorithm=brute, score=0.916244 -   0.0s\n",
      "[CV] n_neighbors=3, p=2, algorithm=brute .............................\n",
      "[CV] .... n_neighbors=3, p=2, algorithm=brute, score=0.886574 -   0.0s\n",
      "[CV] n_neighbors=3, p=2, algorithm=brute .............................\n",
      "[CV] .... n_neighbors=3, p=2, algorithm=brute, score=0.925059 -   0.0s\n",
      "[CV] n_neighbors=3, p=2, algorithm=brute .............................\n",
      "[CV] .... n_neighbors=3, p=2, algorithm=brute, score=0.907583 -   0.0s\n",
      "[CV] n_neighbors=3, p=2, algorithm=brute .............................\n",
      "[CV] .... n_neighbors=3, p=2, algorithm=brute, score=0.899281 -   0.0s\n",
      "[CV] n_neighbors=3, p=2, algorithm=brute .............................\n",
      "[CV] .... n_neighbors=3, p=2, algorithm=brute, score=0.907543 -   0.0s\n",
      "[CV] n_neighbors=3, p=2, algorithm=brute .............................\n",
      "[CV] .... n_neighbors=3, p=2, algorithm=brute, score=0.916256 -   0.0s\n",
      "[CV] n_neighbors=3, p=2, algorithm=brute .............................\n",
      "[CV] .... n_neighbors=3, p=2, algorithm=brute, score=0.913580 -   0.0s\n",
      "[CV] n_neighbors=3, p=2, algorithm=brute .............................\n",
      "[CV] .... n_neighbors=3, p=2, algorithm=brute, score=0.930000 -   0.0s\n",
      "[CV] n_neighbors=3, p=2, algorithm=brute .............................\n",
      "[CV] .... n_neighbors=3, p=2, algorithm=brute, score=0.899497 -   0.0s\n",
      "[CV] n_neighbors=3, p=2, algorithm=brute .............................\n",
      "[CV] .... n_neighbors=3, p=2, algorithm=brute, score=0.908629 -   0.0s\n",
      "[CV] n_neighbors=3, p=3, algorithm=brute .............................\n",
      "[CV] .... n_neighbors=3, p=3, algorithm=brute, score=0.879630 -   1.8s\n",
      "[CV] n_neighbors=3, p=3, algorithm=brute .............................\n",
      "[CV] .... n_neighbors=3, p=3, algorithm=brute, score=0.915691 -   1.6s\n",
      "[CV] n_neighbors=3, p=3, algorithm=brute .............................\n",
      "[CV] .... n_neighbors=3, p=3, algorithm=brute, score=0.895735 -   1.6s\n",
      "[CV] n_neighbors=3, p=3, algorithm=brute .............................\n",
      "[CV] .... n_neighbors=3, p=3, algorithm=brute, score=0.884892 -   1.6s\n",
      "[CV] n_neighbors=3, p=3, algorithm=brute .............................\n",
      "[CV] .... n_neighbors=3, p=3, algorithm=brute, score=0.917275 -   1.5s\n",
      "[CV] n_neighbors=3, p=3, algorithm=brute .............................\n",
      "[CV] .... n_neighbors=3, p=3, algorithm=brute, score=0.901478 -   1.5s\n",
      "[CV] n_neighbors=3, p=3, algorithm=brute .............................\n",
      "[CV] .... n_neighbors=3, p=3, algorithm=brute, score=0.906173 -   1.5s\n",
      "[CV] n_neighbors=3, p=3, algorithm=brute .............................\n",
      "[CV] .... n_neighbors=3, p=3, algorithm=brute, score=0.900000 -   1.5s\n",
      "[CV] n_neighbors=3, p=3, algorithm=brute .............................\n",
      "[CV] .... n_neighbors=3, p=3, algorithm=brute, score=0.881910 -   1.5s\n",
      "[CV] n_neighbors=3, p=3, algorithm=brute .............................\n",
      "[CV] .... n_neighbors=3, p=3, algorithm=brute, score=0.895939 -   1.5s\n",
      "[CV] n_neighbors=5, p=1, algorithm=brute .............................\n",
      "[CV] .... n_neighbors=5, p=1, algorithm=brute, score=0.888889 -   0.0s\n",
      "[CV] n_neighbors=5, p=1, algorithm=brute .............................\n",
      "[CV] .... n_neighbors=5, p=1, algorithm=brute, score=0.929742 -   0.0s\n",
      "[CV] n_neighbors=5, p=1, algorithm=brute .............................\n",
      "[CV] .... n_neighbors=5, p=1, algorithm=brute, score=0.919431 -   0.0s\n",
      "[CV] n_neighbors=5, p=1, algorithm=brute .............................\n",
      "[CV] .... n_neighbors=5, p=1, algorithm=brute, score=0.940048 -   0.0s\n",
      "[CV] n_neighbors=5, p=1, algorithm=brute .............................\n",
      "[CV] .... n_neighbors=5, p=1, algorithm=brute, score=0.927007 -   0.0s\n",
      "[CV] n_neighbors=5, p=1, algorithm=brute .............................\n",
      "[CV] .... n_neighbors=5, p=1, algorithm=brute, score=0.928571 -   0.0s\n",
      "[CV] n_neighbors=5, p=1, algorithm=brute .............................\n",
      "[CV] .... n_neighbors=5, p=1, algorithm=brute, score=0.943210 -   0.0s\n",
      "[CV] n_neighbors=5, p=1, algorithm=brute .............................\n",
      "[CV] .... n_neighbors=5, p=1, algorithm=brute, score=0.942500 -   0.0s\n",
      "[CV] n_neighbors=5, p=1, algorithm=brute .............................\n",
      "[CV] .... n_neighbors=5, p=1, algorithm=brute, score=0.919598 -   0.0s\n",
      "[CV] n_neighbors=5, p=1, algorithm=brute .............................\n",
      "[CV] .... n_neighbors=5, p=1, algorithm=brute, score=0.918782 -   0.0s\n",
      "[CV] n_neighbors=5, p=2, algorithm=brute .............................\n",
      "[CV] .... n_neighbors=5, p=2, algorithm=brute, score=0.879630 -   0.0s\n",
      "[CV] n_neighbors=5, p=2, algorithm=brute .............................\n",
      "[CV] .... n_neighbors=5, p=2, algorithm=brute, score=0.920375 -   0.0s\n",
      "[CV] n_neighbors=5, p=2, algorithm=brute .............................\n",
      "[CV] .... n_neighbors=5, p=2, algorithm=brute, score=0.895735 -   0.0s\n",
      "[CV] n_neighbors=5, p=2, algorithm=brute .............................\n",
      "[CV] .... n_neighbors=5, p=2, algorithm=brute, score=0.906475 -   0.0s\n",
      "[CV] n_neighbors=5, p=2, algorithm=brute .............................\n",
      "[CV] .... n_neighbors=5, p=2, algorithm=brute, score=0.924574 -   0.0s\n",
      "[CV] n_neighbors=5, p=2, algorithm=brute .............................\n",
      "[CV] .... n_neighbors=5, p=2, algorithm=brute, score=0.918719 -   0.0s\n",
      "[CV] n_neighbors=5, p=2, algorithm=brute .............................\n",
      "[CV] .... n_neighbors=5, p=2, algorithm=brute, score=0.911111 -   0.0s\n",
      "[CV] n_neighbors=5, p=2, algorithm=brute .............................\n",
      "[CV] .... n_neighbors=5, p=2, algorithm=brute, score=0.920000 -   0.0s\n",
      "[CV] n_neighbors=5, p=2, algorithm=brute .............................\n",
      "[CV] .... n_neighbors=5, p=2, algorithm=brute, score=0.907035 -   0.0s\n",
      "[CV] n_neighbors=5, p=2, algorithm=brute .............................\n",
      "[CV] .... n_neighbors=5, p=2, algorithm=brute, score=0.901015 -   0.0s\n",
      "[CV] n_neighbors=5, p=3, algorithm=brute .............................\n",
      "[CV] .... n_neighbors=5, p=3, algorithm=brute, score=0.865741 -   1.7s\n",
      "[CV] n_neighbors=5, p=3, algorithm=brute .............................\n",
      "[CV] .... n_neighbors=5, p=3, algorithm=brute, score=0.899297 -   1.6s\n",
      "[CV] n_neighbors=5, p=3, algorithm=brute .............................\n",
      "[CV] .... n_neighbors=5, p=3, algorithm=brute, score=0.883886 -   1.6s\n",
      "[CV] n_neighbors=5, p=3, algorithm=brute .............................\n",
      "[CV] .... n_neighbors=5, p=3, algorithm=brute, score=0.896882 -   1.6s\n",
      "[CV] n_neighbors=5, p=3, algorithm=brute .............................\n",
      "[CV] .... n_neighbors=5, p=3, algorithm=brute, score=0.907543 -   1.6s\n",
      "[CV] n_neighbors=5, p=3, algorithm=brute .............................\n",
      "[CV] .... n_neighbors=5, p=3, algorithm=brute, score=0.901478 -   1.6s\n",
      "[CV] n_neighbors=5, p=3, algorithm=brute .............................\n",
      "[CV] .... n_neighbors=5, p=3, algorithm=brute, score=0.891358 -   1.5s\n",
      "[CV] n_neighbors=5, p=3, algorithm=brute .............................\n",
      "[CV] .... n_neighbors=5, p=3, algorithm=brute, score=0.897500 -   1.5s\n",
      "[CV] n_neighbors=5, p=3, algorithm=brute .............................\n",
      "[CV] .... n_neighbors=5, p=3, algorithm=brute, score=0.884422 -   1.5s\n",
      "[CV] n_neighbors=5, p=3, algorithm=brute .............................\n",
      "[CV] .... n_neighbors=5, p=3, algorithm=brute, score=0.883249 -   1.5s\n",
      "[CV] n_neighbors=9, p=1, algorithm=brute .............................\n",
      "[CV] .... n_neighbors=9, p=1, algorithm=brute, score=0.875000 -   0.0s\n",
      "[CV] n_neighbors=9, p=1, algorithm=brute .............................\n",
      "[CV] .... n_neighbors=9, p=1, algorithm=brute, score=0.911007 -   0.0s\n",
      "[CV] n_neighbors=9, p=1, algorithm=brute .............................\n",
      "[CV] .... n_neighbors=9, p=1, algorithm=brute, score=0.905213 -   0.0s\n",
      "[CV] n_neighbors=9, p=1, algorithm=brute .............................\n",
      "[CV] .... n_neighbors=9, p=1, algorithm=brute, score=0.920863 -   0.0s\n",
      "[CV] n_neighbors=9, p=1, algorithm=brute .............................\n",
      "[CV] .... n_neighbors=9, p=1, algorithm=brute, score=0.917275 -   0.0s\n",
      "[CV] n_neighbors=9, p=1, algorithm=brute .............................\n",
      "[CV] .... n_neighbors=9, p=1, algorithm=brute, score=0.921182 -   0.0s\n",
      "[CV] n_neighbors=9, p=1, algorithm=brute .............................\n",
      "[CV] .... n_neighbors=9, p=1, algorithm=brute, score=0.925926 -   0.0s\n",
      "[CV] n_neighbors=9, p=1, algorithm=brute .............................\n",
      "[CV] .... n_neighbors=9, p=1, algorithm=brute, score=0.910000 -   0.0s\n",
      "[CV] n_neighbors=9, p=1, algorithm=brute .............................\n",
      "[CV] .... n_neighbors=9, p=1, algorithm=brute, score=0.914573 -   0.0s\n",
      "[CV] n_neighbors=9, p=1, algorithm=brute .............................\n",
      "[CV] .... n_neighbors=9, p=1, algorithm=brute, score=0.913706 -   0.0s\n",
      "[CV] n_neighbors=9, p=2, algorithm=brute .............................\n",
      "[CV] .... n_neighbors=9, p=2, algorithm=brute, score=0.861111 -   0.0s\n",
      "[CV] n_neighbors=9, p=2, algorithm=brute .............................\n",
      "[CV] .... n_neighbors=9, p=2, algorithm=brute, score=0.894614 -   0.0s\n",
      "[CV] n_neighbors=9, p=2, algorithm=brute .............................\n",
      "[CV] .... n_neighbors=9, p=2, algorithm=brute, score=0.881517 -   0.0s\n",
      "[CV] n_neighbors=9, p=2, algorithm=brute .............................\n",
      "[CV] .... n_neighbors=9, p=2, algorithm=brute, score=0.904077 -   0.0s\n",
      "[CV] n_neighbors=9, p=2, algorithm=brute .............................\n",
      "[CV] .... n_neighbors=9, p=2, algorithm=brute, score=0.895377 -   0.0s\n",
      "[CV] n_neighbors=9, p=2, algorithm=brute .............................\n",
      "[CV] .... n_neighbors=9, p=2, algorithm=brute, score=0.908867 -   0.0s\n",
      "[CV] n_neighbors=9, p=2, algorithm=brute .............................\n",
      "[CV] .... n_neighbors=9, p=2, algorithm=brute, score=0.901235 -   0.0s\n",
      "[CV] n_neighbors=9, p=2, algorithm=brute .............................\n",
      "[CV] .... n_neighbors=9, p=2, algorithm=brute, score=0.892500 -   0.0s\n",
      "[CV] n_neighbors=9, p=2, algorithm=brute .............................\n",
      "[CV] .... n_neighbors=9, p=2, algorithm=brute, score=0.876884 -   0.0s\n",
      "[CV] n_neighbors=9, p=2, algorithm=brute .............................\n",
      "[CV] .... n_neighbors=9, p=2, algorithm=brute, score=0.893401 -   0.0s\n",
      "[CV] n_neighbors=9, p=3, algorithm=brute .............................\n",
      "[CV] .... n_neighbors=9, p=3, algorithm=brute, score=0.847222 -   1.7s\n",
      "[CV] n_neighbors=9, p=3, algorithm=brute .............................\n",
      "[CV] .... n_neighbors=9, p=3, algorithm=brute, score=0.885246 -   1.6s\n",
      "[CV] n_neighbors=9, p=3, algorithm=brute .............................\n",
      "[CV] .... n_neighbors=9, p=3, algorithm=brute, score=0.879147 -   1.6s\n",
      "[CV] n_neighbors=9, p=3, algorithm=brute .............................\n",
      "[CV] .... n_neighbors=9, p=3, algorithm=brute, score=0.870504 -   1.6s\n",
      "[CV] n_neighbors=9, p=3, algorithm=brute .............................\n",
      "[CV] .... n_neighbors=9, p=3, algorithm=brute, score=0.890511 -   1.6s\n",
      "[CV] n_neighbors=9, p=3, algorithm=brute .............................\n",
      "[CV] .... n_neighbors=9, p=3, algorithm=brute, score=0.911330 -   1.5s\n",
      "[CV] n_neighbors=9, p=3, algorithm=brute .............................\n",
      "[CV] .... n_neighbors=9, p=3, algorithm=brute, score=0.879012 -   1.6s\n",
      "[CV] n_neighbors=9, p=3, algorithm=brute .............................\n",
      "[CV] .... n_neighbors=9, p=3, algorithm=brute, score=0.887500 -   1.5s\n",
      "[CV] n_neighbors=9, p=3, algorithm=brute .............................\n",
      "[CV] .... n_neighbors=9, p=3, algorithm=brute, score=0.871859 -   1.5s\n",
      "[CV] n_neighbors=9, p=3, algorithm=brute .............................\n",
      "[CV] .... n_neighbors=9, p=3, algorithm=brute, score=0.875635 -   1.5s\n",
      "[CV] n_neighbors=15, p=1, algorithm=brute ............................\n",
      "[CV] ... n_neighbors=15, p=1, algorithm=brute, score=0.872685 -   0.0s\n",
      "[CV] n_neighbors=15, p=1, algorithm=brute ............................\n",
      "[CV] ... n_neighbors=15, p=1, algorithm=brute, score=0.901639 -   0.0s\n",
      "[CV] n_neighbors=15, p=1, algorithm=brute ............................\n",
      "[CV] ... n_neighbors=15, p=1, algorithm=brute, score=0.879147 -   0.0s\n",
      "[CV] n_neighbors=15, p=1, algorithm=brute ............................\n",
      "[CV] ... n_neighbors=15, p=1, algorithm=brute, score=0.911271 -   0.0s\n",
      "[CV] n_neighbors=15, p=1, algorithm=brute ............................\n",
      "[CV] ... n_neighbors=15, p=1, algorithm=brute, score=0.892944 -   0.0s\n",
      "[CV] n_neighbors=15, p=1, algorithm=brute ............................\n",
      "[CV] ... n_neighbors=15, p=1, algorithm=brute, score=0.903941 -   0.0s\n",
      "[CV] n_neighbors=15, p=1, algorithm=brute ............................\n",
      "[CV] ... n_neighbors=15, p=1, algorithm=brute, score=0.925926 -   0.0s\n",
      "[CV] n_neighbors=15, p=1, algorithm=brute ............................\n",
      "[CV] ... n_neighbors=15, p=1, algorithm=brute, score=0.900000 -   0.0s\n",
      "[CV] n_neighbors=15, p=1, algorithm=brute ............................\n",
      "[CV] ... n_neighbors=15, p=1, algorithm=brute, score=0.886935 -   0.0s\n",
      "[CV] n_neighbors=15, p=1, algorithm=brute ............................\n",
      "[CV] ... n_neighbors=15, p=1, algorithm=brute, score=0.901015 -   0.0s\n",
      "[CV] n_neighbors=15, p=2, algorithm=brute ............................\n",
      "[CV] ... n_neighbors=15, p=2, algorithm=brute, score=0.849537 -   0.0s\n",
      "[CV] n_neighbors=15, p=2, algorithm=brute ............................\n",
      "[CV] ... n_neighbors=15, p=2, algorithm=brute, score=0.873536 -   0.0s\n",
      "[CV] n_neighbors=15, p=2, algorithm=brute ............................\n",
      "[CV] ... n_neighbors=15, p=2, algorithm=brute, score=0.869668 -   0.0s\n",
      "[CV] n_neighbors=15, p=2, algorithm=brute ............................\n",
      "[CV] ... n_neighbors=15, p=2, algorithm=brute, score=0.889688 -   0.0s\n",
      "[CV] n_neighbors=15, p=2, algorithm=brute ............................\n",
      "[CV] ... n_neighbors=15, p=2, algorithm=brute, score=0.883212 -   0.0s\n",
      "[CV] n_neighbors=15, p=2, algorithm=brute ............................\n",
      "[CV] ... n_neighbors=15, p=2, algorithm=brute, score=0.894089 -   0.0s\n",
      "[CV] n_neighbors=15, p=2, algorithm=brute ............................\n",
      "[CV] ... n_neighbors=15, p=2, algorithm=brute, score=0.876543 -   0.0s\n",
      "[CV] n_neighbors=15, p=2, algorithm=brute ............................\n",
      "[CV] ... n_neighbors=15, p=2, algorithm=brute, score=0.867500 -   0.0s\n",
      "[CV] n_neighbors=15, p=2, algorithm=brute ............................\n",
      "[CV] ... n_neighbors=15, p=2, algorithm=brute, score=0.861809 -   0.0s\n",
      "[CV] n_neighbors=15, p=2, algorithm=brute ............................\n",
      "[CV] ... n_neighbors=15, p=2, algorithm=brute, score=0.885787 -   0.0s\n",
      "[CV] n_neighbors=15, p=3, algorithm=brute ............................\n",
      "[CV] ... n_neighbors=15, p=3, algorithm=brute, score=0.840278 -   1.7s\n",
      "[CV] n_neighbors=15, p=3, algorithm=brute ............................\n",
      "[CV] ... n_neighbors=15, p=3, algorithm=brute, score=0.861827 -   1.6s\n",
      "[CV] n_neighbors=15, p=3, algorithm=brute ............................\n",
      "[CV] ... n_neighbors=15, p=3, algorithm=brute, score=0.853081 -   1.6s\n",
      "[CV] n_neighbors=15, p=3, algorithm=brute ............................\n",
      "[CV] ... n_neighbors=15, p=3, algorithm=brute, score=0.860911 -   1.6s\n",
      "[CV] n_neighbors=15, p=3, algorithm=brute ............................\n",
      "[CV] ... n_neighbors=15, p=3, algorithm=brute, score=0.875912 -   1.6s\n",
      "[CV] n_neighbors=15, p=3, algorithm=brute ............................\n",
      "[CV] ... n_neighbors=15, p=3, algorithm=brute, score=0.879310 -   1.5s\n",
      "[CV] n_neighbors=15, p=3, algorithm=brute ............................\n",
      "[CV] ... n_neighbors=15, p=3, algorithm=brute, score=0.883951 -   1.6s\n",
      "[CV] n_neighbors=15, p=3, algorithm=brute ............................\n",
      "[CV] ... n_neighbors=15, p=3, algorithm=brute, score=0.870000 -   1.6s\n",
      "[CV] n_neighbors=15, p=3, algorithm=brute ............................\n",
      "[CV] ... n_neighbors=15, p=3, algorithm=brute, score=0.851759 -   1.5s\n",
      "[CV] n_neighbors=15, p=3, algorithm=brute ............................\n",
      "[CV] ... n_neighbors=15, p=3, algorithm=brute, score=0.862944 -   1.5s\n"
     ]
    },
    {
     "name": "stderr",
     "output_type": "stream",
     "text": [
      "[Parallel(n_jobs=1)]: Done 480 out of 480 | elapsed:  3.5min finished\n"
     ]
    },
    {
     "data": {
      "text/plain": [
       "GridSearchCV(cv=10, error_score='raise',\n",
       "       estimator=KNeighborsClassifier(algorithm='auto', leaf_size=30, metric='minkowski',\n",
       "           metric_params=None, n_jobs=1, n_neighbors=5, p=2,\n",
       "           weights='uniform'),\n",
       "       fit_params={}, iid=True, n_jobs=1,\n",
       "       param_grid={'algorithm': ['auto', 'ball_tree', 'kd_tree', 'brute'], 'p': [1, 2, 3], 'n_neighbors': [3, 5, 9, 15]},\n",
       "       pre_dispatch='2*n_jobs', refit=True, scoring=None, verbose=10)"
      ]
     },
     "execution_count": 21,
     "metadata": {},
     "output_type": "execute_result"
    }
   ],
   "source": [
    "gs.fit(X_train, y_train)"
   ]
  },
  {
   "cell_type": "code",
   "execution_count": 22,
   "metadata": {
    "collapsed": false
   },
   "outputs": [
    {
     "name": "stdout",
     "output_type": "stream",
     "text": [
      "KNeighborsClassifier(algorithm='auto', leaf_size=30, metric='minkowski',\n",
      "           metric_params=None, n_jobs=1, n_neighbors=3, p=1,\n",
      "           weights='uniform')\n"
     ]
    }
   ],
   "source": [
    "print(gs.best_estimator_)"
   ]
  },
  {
   "cell_type": "code",
   "execution_count": 23,
   "metadata": {
    "collapsed": false
   },
   "outputs": [
    {
     "data": {
      "text/plain": [
       "KNeighborsClassifier(algorithm='auto', leaf_size=30, metric='minkowski',\n",
       "           metric_params=None, n_jobs=1, n_neighbors=3, p=1,\n",
       "           weights='uniform')"
      ]
     },
     "execution_count": 23,
     "metadata": {},
     "output_type": "execute_result"
    }
   ],
   "source": [
    "new_knn = KNeighborsClassifier(algorithm='auto', leaf_size=30, metric='minkowski',\n",
    "           metric_params=None, n_jobs=1, n_neighbors=3, p=1,\n",
    "           weights='uniform')\n",
    "new_knn.fit(X_train, y_train)"
   ]
  },
  {
   "cell_type": "code",
   "execution_count": 24,
   "metadata": {
    "collapsed": false
   },
   "outputs": [
    {
     "name": "stdout",
     "output_type": "stream",
     "text": [
      "KNN - fine tuned, got 92.90981281905843% accuracy on the test set.\n"
     ]
    }
   ],
   "source": [
    "print(\"KNN - fine tuned, got {}% accuracy on the test set.\".format(accuracy_score(y_test, new_knn.predict(X_test))*100))"
   ]
  },
  {
   "cell_type": "markdown",
   "metadata": {},
   "source": [
    "#### Step 2.1.2 Logistic Regression"
   ]
  },
  {
   "cell_type": "code",
   "execution_count": 25,
   "metadata": {
    "collapsed": false
   },
   "outputs": [],
   "source": [
    "from sklearn.linear_model import LogisticRegression"
   ]
  },
  {
   "cell_type": "code",
   "execution_count": 26,
   "metadata": {
    "collapsed": false
   },
   "outputs": [
    {
     "data": {
      "text/plain": [
       "LogisticRegression(C=1.0, class_weight=None, dual=False, fit_intercept=True,\n",
       "          intercept_scaling=1, max_iter=100, multi_class='ovr', n_jobs=1,\n",
       "          penalty='l2', random_state=None, solver='liblinear', tol=0.0001,\n",
       "          verbose=0, warm_start=False)"
      ]
     },
     "execution_count": 26,
     "metadata": {},
     "output_type": "execute_result"
    }
   ],
   "source": [
    "lr = LogisticRegression()\n",
    "lr.fit(X_train, y_train)"
   ]
  },
  {
   "cell_type": "code",
   "execution_count": 27,
   "metadata": {
    "collapsed": false
   },
   "outputs": [
    {
     "name": "stdout",
     "output_type": "stream",
     "text": [
      "Logistic regression - default, got 91.71866137266024% accuracy on the test set.\n"
     ]
    }
   ],
   "source": [
    "print(\"Logistic regression - default, got {}% accuracy on the test set.\".format(accuracy_score(y_test, lr.predict(X_test))*100))"
   ]
  },
  {
   "cell_type": "code",
   "execution_count": 30,
   "metadata": {
    "collapsed": false
   },
   "outputs": [
    {
     "data": {
      "text/plain": [
       "LogisticRegression(C=1000, class_weight=None, dual=False, fit_intercept=True,\n",
       "          intercept_scaling=1, max_iter=100, multi_class='ovr', n_jobs=1,\n",
       "          penalty='l2', random_state=None, solver='liblinear', tol=0.0001,\n",
       "          verbose=0, warm_start=False)"
      ]
     },
     "execution_count": 30,
     "metadata": {},
     "output_type": "execute_result"
    }
   ],
   "source": [
    "lr_tuned = LogisticRegression(C=1000, penalty='l2')\n",
    "lr_tuned.fit(X_train, y_train)"
   ]
  },
  {
   "cell_type": "code",
   "execution_count": 34,
   "metadata": {
    "collapsed": false
   },
   "outputs": [
    {
     "name": "stdout",
     "output_type": "stream",
     "text": [
      "Logistic regression - tuned, got 94.04424276800908% accuracy on the test set.\n"
     ]
    }
   ],
   "source": [
    "print(\"Logistic regression - tuned, got {}% accuracy on the test set.\".format(accuracy_score(y_test, lr_tuned.predict(X_test))*100))"
   ]
  },
  {
   "cell_type": "markdown",
   "metadata": {},
   "source": [
    "## Step 2.2 Tree and forest classifiers"
   ]
  },
  {
   "cell_type": "markdown",
   "metadata": {},
   "source": [
    "### Step 2.2.1 Tree Classifier"
   ]
  },
  {
   "cell_type": "code",
   "execution_count": 32,
   "metadata": {
    "collapsed": true
   },
   "outputs": [],
   "source": [
    "from sklearn.tree import DecisionTreeClassifier"
   ]
  },
  {
   "cell_type": "code",
   "execution_count": 33,
   "metadata": {
    "collapsed": false
   },
   "outputs": [
    {
     "data": {
      "text/plain": [
       "DecisionTreeClassifier(class_weight=None, criterion='gini', max_depth=None,\n",
       "            max_features=None, max_leaf_nodes=None,\n",
       "            min_impurity_split=1e-07, min_samples_leaf=1,\n",
       "            min_samples_split=2, min_weight_fraction_leaf=0.0,\n",
       "            presort=False, random_state=None, splitter='best')"
      ]
     },
     "execution_count": 33,
     "metadata": {},
     "output_type": "execute_result"
    }
   ],
   "source": [
    "dtc = DecisionTreeClassifier()\n",
    "dtc.fit(X_train, y_train)"
   ]
  },
  {
   "cell_type": "code",
   "execution_count": 35,
   "metadata": {
    "collapsed": false
   },
   "outputs": [
    {
     "name": "stdout",
     "output_type": "stream",
     "text": [
      "Decision tree classifier, got 99.09245604083948% accuracy on the test set.\n"
     ]
    }
   ],
   "source": [
    "print(\"Decision tree classifier, got {}% accuracy on the test set.\".format(accuracy_score(y_test, dtc.predict(X_test))*100))"
   ]
  },
  {
   "cell_type": "markdown",
   "metadata": {},
   "source": [
    "### Steo 2.2.2 Forest"
   ]
  },
  {
   "cell_type": "code",
   "execution_count": 36,
   "metadata": {
    "collapsed": true
   },
   "outputs": [],
   "source": [
    "from sklearn.ensemble import RandomForestClassifier"
   ]
  },
  {
   "cell_type": "code",
   "execution_count": 39,
   "metadata": {
    "collapsed": false
   },
   "outputs": [
    {
     "data": {
      "text/plain": [
       "RandomForestClassifier(bootstrap=True, class_weight=None, criterion='gini',\n",
       "            max_depth=None, max_features='auto', max_leaf_nodes=None,\n",
       "            min_impurity_split=1e-07, min_samples_leaf=1,\n",
       "            min_samples_split=2, min_weight_fraction_leaf=0.0,\n",
       "            n_estimators=350, n_jobs=1, oob_score=False, random_state=None,\n",
       "            verbose=0, warm_start=False)"
      ]
     },
     "execution_count": 39,
     "metadata": {},
     "output_type": "execute_result"
    }
   ],
   "source": [
    "rfc = RandomForestClassifier(n_estimators=350)\n",
    "rfc.fit(X_train, y_train)"
   ]
  },
  {
   "cell_type": "code",
   "execution_count": 40,
   "metadata": {
    "collapsed": false
   },
   "outputs": [
    {
     "name": "stdout",
     "output_type": "stream",
     "text": [
      "Random forest classifier, got 99.03573454339194% accuracy on the test set.\n"
     ]
    }
   ],
   "source": [
    "print(\"Random forest classifier, got {}% accuracy on the test set.\".format(accuracy_score(y_test, rfc.predict(X_test))*100))"
   ]
  },
  {
   "cell_type": "markdown",
   "metadata": {},
   "source": [
    "## Summary:"
   ]
  },
  {
   "cell_type": "markdown",
   "metadata": {},
   "source": [
    "In this task as you can see the best overall performance (accuracy) on the test set had Tree classifier. Right behind it Random Forest Classifier showed great accuracy with 99.04%"
   ]
  },
  {
   "cell_type": "code",
   "execution_count": 64,
   "metadata": {
    "collapsed": false
   },
   "outputs": [],
   "source": [
    "accuracy_tree = cross_val_score(dtc, scled_features, labels, scoring='accuracy', cv=10)"
   ]
  },
  {
   "cell_type": "code",
   "execution_count": 65,
   "metadata": {
    "collapsed": false
   },
   "outputs": [
    {
     "name": "stdout",
     "output_type": "stream",
     "text": [
      "99.0961562681\n"
     ]
    }
   ],
   "source": [
    "print(np.mean(accuracy_tree)*100)"
   ]
  },
  {
   "cell_type": "markdown",
   "metadata": {},
   "source": [
    "To be sure we tested the algorithm with best performance on cross_validation on WHOLE dataset. Performance is pretty good, right :)"
   ]
  }
 ],
 "metadata": {
  "kernelspec": {
   "display_name": "Python [Root]",
   "language": "python",
   "name": "Python [Root]"
  },
  "language_info": {
   "codemirror_mode": {
    "name": "ipython",
    "version": 3
   },
   "file_extension": ".py",
   "mimetype": "text/x-python",
   "name": "python",
   "nbconvert_exporter": "python",
   "pygments_lexer": "ipython3",
   "version": "3.5.2"
  }
 },
 "nbformat": 4,
 "nbformat_minor": 0
}
