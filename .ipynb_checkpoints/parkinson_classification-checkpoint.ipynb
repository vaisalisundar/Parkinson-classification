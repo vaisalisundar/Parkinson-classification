{
 "cells": [
  {
   "cell_type": "markdown",
   "metadata": {},
   "source": [
    "The dataset used in this notebook can be downloaded on this link: https://archive.ics.uci.edu/ml/datasets/parkinsons"
   ]
  },
  {
   "cell_type": "code",
   "execution_count": 1,
   "metadata": {},
   "outputs": [
    {
     "data": {
      "image/jpeg": "[encoded data removed]",
      "text/plain": [
       "<IPython.core.display.Image object>"
      ]
     },
     "execution_count": 1,
     "metadata": {},
     "output_type": "execute_result"
    }
   ],
   "source": [
    "import matplotlib.pyplot as plt\n",
    "import pandas as pd\n",
    "import numpy as np\n",
    "%matplotlib inline\n",
    "from IPython.core.display import Image\n",
    "Image(filename='brain-activity.jpg') "
   ]
  },
  {
   "cell_type": "code",
   "execution_count": 2,
   "metadata": {},
   "outputs": [],
   "source": [
    "parkinson_data = pd.read_csv(\"parkinsons_data.txt\")"
   ]
  },
  {
   "cell_type": "code",
   "execution_count": 3,
   "metadata": {},
   "outputs": [
    {
     "data": {
      "text/html": [
       "<div>\n",
       "<style scoped>\n",
       "    .dataframe tbody tr th:only-of-type {\n",
       "        vertical-align: middle;\n",
       "    }\n",
       "\n",
       "    .dataframe tbody tr th {\n",
       "        vertical-align: top;\n",
       "    }\n",
       "\n",
       "    .dataframe thead th {\n",
       "        text-align: right;\n",
       "    }\n",
       "</style>\n",
       "<table border=\"1\" class=\"dataframe\">\n",
       "  <thead>\n",
       "    <tr style=\"text-align: right;\">\n",
       "      <th></th>\n",
       "      <th>subject#</th>\n",
       "      <th>age</th>\n",
       "      <th>sex</th>\n",
       "      <th>test_time</th>\n",
       "      <th>motor_UPDRS</th>\n",
       "      <th>total_UPDRS</th>\n",
       "      <th>Jitter(%)</th>\n",
       "      <th>Jitter(Abs)</th>\n",
       "      <th>Jitter:RAP</th>\n",
       "      <th>Jitter:PPQ5</th>\n",
       "      <th>...</th>\n",
       "      <th>Shimmer(dB)</th>\n",
       "      <th>Shimmer:APQ3</th>\n",
       "      <th>Shimmer:APQ5</th>\n",
       "      <th>Shimmer:APQ11</th>\n",
       "      <th>Shimmer:DDA</th>\n",
       "      <th>NHR</th>\n",
       "      <th>HNR</th>\n",
       "      <th>RPDE</th>\n",
       "      <th>DFA</th>\n",
       "      <th>PPE</th>\n",
       "    </tr>\n",
       "  </thead>\n",
       "  <tbody>\n",
       "    <tr>\n",
       "      <th>0</th>\n",
       "      <td>1</td>\n",
       "      <td>72</td>\n",
       "      <td>0</td>\n",
       "      <td>5.6431</td>\n",
       "      <td>28.199</td>\n",
       "      <td>34.398</td>\n",
       "      <td>0.00662</td>\n",
       "      <td>0.000034</td>\n",
       "      <td>0.00401</td>\n",
       "      <td>0.00317</td>\n",
       "      <td>...</td>\n",
       "      <td>0.230</td>\n",
       "      <td>0.01438</td>\n",
       "      <td>0.01309</td>\n",
       "      <td>0.01662</td>\n",
       "      <td>0.04314</td>\n",
       "      <td>0.014290</td>\n",
       "      <td>21.640</td>\n",
       "      <td>0.41888</td>\n",
       "      <td>0.54842</td>\n",
       "      <td>0.16006</td>\n",
       "    </tr>\n",
       "    <tr>\n",
       "      <th>1</th>\n",
       "      <td>1</td>\n",
       "      <td>72</td>\n",
       "      <td>0</td>\n",
       "      <td>12.6660</td>\n",
       "      <td>28.447</td>\n",
       "      <td>34.894</td>\n",
       "      <td>0.00300</td>\n",
       "      <td>0.000017</td>\n",
       "      <td>0.00132</td>\n",
       "      <td>0.00150</td>\n",
       "      <td>...</td>\n",
       "      <td>0.179</td>\n",
       "      <td>0.00994</td>\n",
       "      <td>0.01072</td>\n",
       "      <td>0.01689</td>\n",
       "      <td>0.02982</td>\n",
       "      <td>0.011112</td>\n",
       "      <td>27.183</td>\n",
       "      <td>0.43493</td>\n",
       "      <td>0.56477</td>\n",
       "      <td>0.10810</td>\n",
       "    </tr>\n",
       "    <tr>\n",
       "      <th>2</th>\n",
       "      <td>1</td>\n",
       "      <td>72</td>\n",
       "      <td>0</td>\n",
       "      <td>19.6810</td>\n",
       "      <td>28.695</td>\n",
       "      <td>35.389</td>\n",
       "      <td>0.00481</td>\n",
       "      <td>0.000025</td>\n",
       "      <td>0.00205</td>\n",
       "      <td>0.00208</td>\n",
       "      <td>...</td>\n",
       "      <td>0.181</td>\n",
       "      <td>0.00734</td>\n",
       "      <td>0.00844</td>\n",
       "      <td>0.01458</td>\n",
       "      <td>0.02202</td>\n",
       "      <td>0.020220</td>\n",
       "      <td>23.047</td>\n",
       "      <td>0.46222</td>\n",
       "      <td>0.54405</td>\n",
       "      <td>0.21014</td>\n",
       "    </tr>\n",
       "    <tr>\n",
       "      <th>3</th>\n",
       "      <td>1</td>\n",
       "      <td>72</td>\n",
       "      <td>0</td>\n",
       "      <td>25.6470</td>\n",
       "      <td>28.905</td>\n",
       "      <td>35.810</td>\n",
       "      <td>0.00528</td>\n",
       "      <td>0.000027</td>\n",
       "      <td>0.00191</td>\n",
       "      <td>0.00264</td>\n",
       "      <td>...</td>\n",
       "      <td>0.327</td>\n",
       "      <td>0.01106</td>\n",
       "      <td>0.01265</td>\n",
       "      <td>0.01963</td>\n",
       "      <td>0.03317</td>\n",
       "      <td>0.027837</td>\n",
       "      <td>24.445</td>\n",
       "      <td>0.48730</td>\n",
       "      <td>0.57794</td>\n",
       "      <td>0.33277</td>\n",
       "    </tr>\n",
       "    <tr>\n",
       "      <th>4</th>\n",
       "      <td>1</td>\n",
       "      <td>72</td>\n",
       "      <td>0</td>\n",
       "      <td>33.6420</td>\n",
       "      <td>29.187</td>\n",
       "      <td>36.375</td>\n",
       "      <td>0.00335</td>\n",
       "      <td>0.000020</td>\n",
       "      <td>0.00093</td>\n",
       "      <td>0.00130</td>\n",
       "      <td>...</td>\n",
       "      <td>0.176</td>\n",
       "      <td>0.00679</td>\n",
       "      <td>0.00929</td>\n",
       "      <td>0.01819</td>\n",
       "      <td>0.02036</td>\n",
       "      <td>0.011625</td>\n",
       "      <td>26.126</td>\n",
       "      <td>0.47188</td>\n",
       "      <td>0.56122</td>\n",
       "      <td>0.19361</td>\n",
       "    </tr>\n",
       "  </tbody>\n",
       "</table>\n",
       "<p>5 rows × 22 columns</p>\n",
       "</div>"
      ],
      "text/plain": [
       "   subject#  age  sex  test_time  motor_UPDRS  total_UPDRS  Jitter(%)  \\\n",
       "0         1   72    0     5.6431       28.199       34.398    0.00662   \n",
       "1         1   72    0    12.6660       28.447       34.894    0.00300   \n",
       "2         1   72    0    19.6810       28.695       35.389    0.00481   \n",
       "3         1   72    0    25.6470       28.905       35.810    0.00528   \n",
       "4         1   72    0    33.6420       29.187       36.375    0.00335   \n",
       "\n",
       "   Jitter(Abs)  Jitter:RAP  Jitter:PPQ5  ...  Shimmer(dB)  Shimmer:APQ3  \\\n",
       "0     0.000034     0.00401      0.00317  ...        0.230       0.01438   \n",
       "1     0.000017     0.00132      0.00150  ...        0.179       0.00994   \n",
       "2     0.000025     0.00205      0.00208  ...        0.181       0.00734   \n",
       "3     0.000027     0.00191      0.00264  ...        0.327       0.01106   \n",
       "4     0.000020     0.00093      0.00130  ...        0.176       0.00679   \n",
       "\n",
       "   Shimmer:APQ5  Shimmer:APQ11  Shimmer:DDA       NHR     HNR     RPDE  \\\n",
       "0       0.01309        0.01662      0.04314  0.014290  21.640  0.41888   \n",
       "1       0.01072        0.01689      0.02982  0.011112  27.183  0.43493   \n",
       "2       0.00844        0.01458      0.02202  0.020220  23.047  0.46222   \n",
       "3       0.01265        0.01963      0.03317  0.027837  24.445  0.48730   \n",
       "4       0.00929        0.01819      0.02036  0.011625  26.126  0.47188   \n",
       "\n",
       "       DFA      PPE  \n",
       "0  0.54842  0.16006  \n",
       "1  0.56477  0.10810  \n",
       "2  0.54405  0.21014  \n",
       "3  0.57794  0.33277  \n",
       "4  0.56122  0.19361  \n",
       "\n",
       "[5 rows x 22 columns]"
      ]
     },
     "execution_count": 3,
     "metadata": {},
     "output_type": "execute_result"
    }
   ],
   "source": [
    "parkinson_data.head()"
   ]
  },
  {
   "cell_type": "raw",
   "metadata": {
    "collapsed": true
   },
   "source": [
    "Attribute Information:\n",
    "\n",
    "Matrix column entries (attributes): \n",
    "name - ASCII subject name and recording number \n",
    "MDVP:Fo(Hz) - Average vocal fundamental frequency \n",
    "MDVP:Fhi(Hz) - Maximum vocal fundamental frequency \n",
    "MDVP:Flo(Hz) - Minimum vocal fundamental frequency \n",
    "MDVP:Jitter(%),MDVP:Jitter(Abs),MDVP:RAP,MDVP:PPQ,Jitter:DDP - Several measures of variation in fundamental frequency \n",
    "MDVP:Shimmer,MDVP:Shimmer(dB),Shimmer:APQ3,Shimmer:APQ5,MDVP:APQ,Shimmer:DDA - Several measures of variation in amplitude \n",
    "NHR,HNR - Two measures of ratio of noise to tonal components in the voice \n",
    "status - Health status of the subject (one) - Parkinson's, (zero) - healthy \n",
    "RPDE,D2 - Two nonlinear dynamical complexity measures \n",
    "DFA - Signal fractal scaling exponent \n",
    "spread1,spread2,PPE - Three nonlinear measures of fundamental frequency variation "
   ]
  },
  {
   "cell_type": "markdown",
   "metadata": {},
   "source": [
    "## Step 1 Data preprocessing"
   ]
  },
  {
   "cell_type": "markdown",
   "metadata": {},
   "source": [
    "Steps that we need to do with this data before doing the prediction part:\n",
    "    1. Split data to Features and labels\n",
    "    2. Scale features to the same scale\n",
    "    3. Split data into training and testing portion\n",
    "    B. Bonus will be to find what features are most 'importatnt'"
   ]
  },
  {
   "cell_type": "markdown",
   "metadata": {},
   "source": [
    "###  Step 1.1 Features vs Labels"
   ]
  },
  {
   "cell_type": "code",
   "execution_count": 4,
   "metadata": {},
   "outputs": [],
   "source": [
    "labels = parkinson_data.iloc[:, 0].values\n",
    "features = parkinson_data.iloc[:, 1:].values"
   ]
  },
  {
   "cell_type": "code",
   "execution_count": 5,
   "metadata": {},
   "outputs": [
    {
     "name": "stdout",
     "output_type": "stream",
     "text": [
      "(5875, 21)\n",
      "1\n"
     ]
    }
   ],
   "source": [
    "print(features.shape)\n",
    "print(labels[0])"
   ]
  },
  {
   "cell_type": "markdown",
   "metadata": {},
   "source": [
    "### Step 1.2 Scale data"
   ]
  },
  {
   "cell_type": "code",
   "execution_count": 6,
   "metadata": {},
   "outputs": [],
   "source": [
    "from sklearn.preprocessing import StandardScaler"
   ]
  },
  {
   "cell_type": "code",
   "execution_count": 7,
   "metadata": {},
   "outputs": [],
   "source": [
    "scaler = StandardScaler()\n",
    "scled_features = scaler.fit_transform(features)"
   ]
  },
  {
   "cell_type": "markdown",
   "metadata": {},
   "source": [
    "### Step 1.3 Splitting data into Training and test portions"
   ]
  },
  {
   "cell_type": "code",
   "execution_count": 8,
   "metadata": {},
   "outputs": [],
   "source": [
    "from sklearn.model_selection import train_test_split"
   ]
  },
  {
   "cell_type": "code",
   "execution_count": 9,
   "metadata": {},
   "outputs": [],
   "source": [
    "X_train, X_test, y_train, y_test = train_test_split(scled_features, labels, test_size=0.3)"
   ]
  },
  {
   "cell_type": "code",
   "execution_count": 10,
   "metadata": {},
   "outputs": [
    {
     "name": "stdout",
     "output_type": "stream",
     "text": [
      "X_train shape -- > (4112, 21)\n",
      "y_train shape -- > (4112,)\n",
      "X_test shape -- > (1763, 21)\n",
      "y_test shape -- > (1763,)\n"
     ]
    }
   ],
   "source": [
    "print(\"X_train shape -- > {}\".format(X_train.shape))\n",
    "print(\"y_train shape -- > {}\".format(y_train.shape))\n",
    "print(\"X_test shape -- > {}\".format(X_test.shape))\n",
    "print(\"y_test shape -- > {}\".format(y_test.shape))"
   ]
  },
  {
   "cell_type": "markdown",
   "metadata": {},
   "source": [
    "### Step 1.B (Optional) Feature engineering (selection)"
   ]
  },
  {
   "cell_type": "code",
   "execution_count": 11,
   "metadata": {},
   "outputs": [],
   "source": [
    "from sklearn.ensemble import ExtraTreesClassifier"
   ]
  },
  {
   "cell_type": "code",
   "execution_count": 12,
   "metadata": {},
   "outputs": [],
   "source": [
    "etc = ExtraTreesClassifier(n_estimators=300)"
   ]
  },
  {
   "cell_type": "code",
   "execution_count": 13,
   "metadata": {},
   "outputs": [
    {
     "data": {
      "text/plain": [
       "ExtraTreesClassifier(bootstrap=False, class_weight=None, criterion='gini',\n",
       "           max_depth=None, max_features='auto', max_leaf_nodes=None,\n",
       "           min_impurity_decrease=0.0, min_impurity_split=None,\n",
       "           min_samples_leaf=1, min_samples_split=2,\n",
       "           min_weight_fraction_leaf=0.0, n_estimators=300, n_jobs=None,\n",
       "           oob_score=False, random_state=None, verbose=0, warm_start=False)"
      ]
     },
     "execution_count": 13,
     "metadata": {},
     "output_type": "execute_result"
    }
   ],
   "source": [
    "etc.fit(X_train, y_train)"
   ]
  },
  {
   "cell_type": "code",
   "execution_count": 14,
   "metadata": {},
   "outputs": [
    {
     "name": "stdout",
     "output_type": "stream",
     "text": [
      "[0.28216647 0.05426794 0.02612363 0.12034708 0.12643085 0.0180008\n",
      " 0.02988898 0.01592873 0.01799078 0.01626545 0.01923393 0.01872967\n",
      " 0.0185929  0.02038463 0.02067432 0.01891028 0.0172852  0.03188342\n",
      " 0.03085488 0.0702421  0.02579797]\n"
     ]
    }
   ],
   "source": [
    "print(etc.feature_importances_)\n",
    "indices = np.argsort(etc.feature_importances_)[::-1]"
   ]
  },
  {
   "cell_type": "code",
   "execution_count": 15,
   "metadata": {},
   "outputs": [
    {
     "data": {
      "image/png": "[encoded data removed]",
      "text/plain": [
       "<Figure size 1120x800 with 1 Axes>"
      ]
     },
     "metadata": {},
     "output_type": "display_data"
    }
   ],
   "source": [
    "plt.figure(num=None, figsize=(14, 10), dpi=80, facecolor='w')\n",
    "plt.title(\"Feature importances\")\n",
    "plt.bar(range(features.shape[1]), etc.feature_importances_[indices],\n",
    "       color=\"r\", align=\"center\")\n",
    "plt.xticks(range(features.shape[1]), indices)\n",
    "plt.show()"
   ]
  },
  {
   "cell_type": "markdown",
   "metadata": {},
   "source": [
    "## Step 2 Prediction"
   ]
  },
  {
   "cell_type": "markdown",
   "metadata": {},
   "source": [
    "### Step 2.1 Simple algorithms"
   ]
  },
  {
   "cell_type": "code",
   "execution_count": 16,
   "metadata": {},
   "outputs": [],
   "source": [
    "from sklearn.metrics import accuracy_score\n",
    "from sklearn.model_selection import GridSearchCV\n",
    "from sklearn.model_selection import cross_val_score"
   ]
  },
  {
   "cell_type": "markdown",
   "metadata": {},
   "source": [
    "#### Step 2.1.1 KNN"
   ]
  },
  {
   "cell_type": "code",
   "execution_count": 17,
   "metadata": {},
   "outputs": [],
   "source": [
    "from sklearn.neighbors import KNeighborsClassifier"
   ]
  },
  {
   "cell_type": "code",
   "execution_count": 18,
   "metadata": {},
   "outputs": [
    {
     "data": {
      "text/plain": [
       "KNeighborsClassifier(algorithm='auto', leaf_size=30, metric='minkowski',\n",
       "           metric_params=None, n_jobs=None, n_neighbors=5, p=2,\n",
       "           weights='uniform')"
      ]
     },
     "execution_count": 18,
     "metadata": {},
     "output_type": "execute_result"
    }
   ],
   "source": [
    "knn = KNeighborsClassifier()\n",
    "knn.fit(X_train, y_train)"
   ]
  },
  {
   "cell_type": "code",
   "execution_count": 19,
   "metadata": {},
   "outputs": [
    {
     "name": "stdout",
     "output_type": "stream",
     "text": [
      "KNN with k=5 got 90.41406693136699% accuracy on the test set.\n"
     ]
    }
   ],
   "source": [
    "print(\"KNN with k=5 got {}% accuracy on the test set.\".format(accuracy_score(y_test, knn.predict(X_test))*100))"
   ]
  },
  {
   "cell_type": "markdown",
   "metadata": {},
   "source": [
    "##### Step 2.1.1.1 KNN Grid search"
   ]
  },
  {
   "cell_type": "code",
   "execution_count": 20,
   "metadata": {},
   "outputs": [],
   "source": [
    "params_dict = {'n_neighbors':[3, 5, 9, 15], 'p':[1, 2, 3], 'algorithm':['auto', 'ball_tree', 'kd_tree', 'brute']}\n",
    "gs = GridSearchCV(knn, param_grid=params_dict, verbose=10, cv=10)"
   ]
  },
  {
   "cell_type": "code",
   "execution_count": null,
   "metadata": {},
   "outputs": [
    {
     "name": "stdout",
     "output_type": "stream",
     "text": [
      "Fitting 10 folds for each of 48 candidates, totalling 480 fits\n",
      "[CV] algorithm=auto, n_neighbors=3, p=1 ..............................\n"
     ]
    },
    {
     "name": "stderr",
     "output_type": "stream",
     "text": [
      "[Parallel(n_jobs=1)]: Using backend SequentialBackend with 1 concurrent workers.\n"
     ]
    },
    {
     "name": "stdout",
     "output_type": "stream",
     "text": [
      "[CV]  algorithm=auto, n_neighbors=3, p=1, score=0.9214780600461894, total=   0.0s\n",
      "[CV] algorithm=auto, n_neighbors=3, p=1 ..............................\n"
     ]
    },
    {
     "name": "stderr",
     "output_type": "stream",
     "text": [
      "[Parallel(n_jobs=1)]: Done   1 out of   1 | elapsed:    0.9s remaining:    0.0s\n"
     ]
    },
    {
     "name": "stdout",
     "output_type": "stream",
     "text": [
      "[CV]  algorithm=auto, n_neighbors=3, p=1, score=0.9063231850117096, total=   0.0s\n",
      "[CV] algorithm=auto, n_neighbors=3, p=1 ..............................\n"
     ]
    },
    {
     "name": "stderr",
     "output_type": "stream",
     "text": [
      "[Parallel(n_jobs=1)]: Done   2 out of   2 | elapsed:    2.0s remaining:    0.0s\n"
     ]
    },
    {
     "name": "stdout",
     "output_type": "stream",
     "text": [
      "[CV]  algorithm=auto, n_neighbors=3, p=1, score=0.9263657957244655, total=   0.0s\n",
      "[CV] algorithm=auto, n_neighbors=3, p=1 ..............................\n"
     ]
    },
    {
     "name": "stderr",
     "output_type": "stream",
     "text": [
      "[Parallel(n_jobs=1)]: Done   3 out of   3 | elapsed:    3.0s remaining:    0.0s\n"
     ]
    },
    {
     "name": "stdout",
     "output_type": "stream",
     "text": [
      "[CV]  algorithm=auto, n_neighbors=3, p=1, score=0.9136690647482014, total=   0.0s\n",
      "[CV] algorithm=auto, n_neighbors=3, p=1 ..............................\n"
     ]
    },
    {
     "name": "stderr",
     "output_type": "stream",
     "text": [
      "[Parallel(n_jobs=1)]: Done   4 out of   4 | elapsed:    3.9s remaining:    0.0s\n"
     ]
    },
    {
     "name": "stdout",
     "output_type": "stream",
     "text": [
      "[CV]  algorithm=auto, n_neighbors=3, p=1, score=0.9247572815533981, total=   0.0s\n",
      "[CV] algorithm=auto, n_neighbors=3, p=1 ..............................\n"
     ]
    },
    {
     "name": "stderr",
     "output_type": "stream",
     "text": [
      "[Parallel(n_jobs=1)]: Done   5 out of   5 | elapsed:    4.8s remaining:    0.0s\n"
     ]
    },
    {
     "name": "stdout",
     "output_type": "stream",
     "text": [
      "[CV]  algorithm=auto, n_neighbors=3, p=1, score=0.9310344827586207, total=   0.0s\n",
      "[CV] algorithm=auto, n_neighbors=3, p=1 ..............................\n"
     ]
    },
    {
     "name": "stderr",
     "output_type": "stream",
     "text": [
      "[Parallel(n_jobs=1)]: Done   6 out of   6 | elapsed:    5.8s remaining:    0.0s\n"
     ]
    },
    {
     "name": "stdout",
     "output_type": "stream",
     "text": [
      "[CV]  algorithm=auto, n_neighbors=3, p=1, score=0.913151364764268, total=   0.0s\n",
      "[CV] algorithm=auto, n_neighbors=3, p=1 ..............................\n"
     ]
    },
    {
     "name": "stderr",
     "output_type": "stream",
     "text": [
      "[Parallel(n_jobs=1)]: Done   7 out of   7 | elapsed:    6.8s remaining:    0.0s\n"
     ]
    },
    {
     "name": "stdout",
     "output_type": "stream",
     "text": [
      "[CV]  algorithm=auto, n_neighbors=3, p=1, score=0.9102244389027432, total=   0.0s\n",
      "[CV] algorithm=auto, n_neighbors=3, p=1 ..............................\n"
     ]
    },
    {
     "name": "stderr",
     "output_type": "stream",
     "text": [
      "[Parallel(n_jobs=1)]: Done   8 out of   8 | elapsed:    7.7s remaining:    0.0s\n"
     ]
    },
    {
     "name": "stdout",
     "output_type": "stream",
     "text": [
      "[CV]  algorithm=auto, n_neighbors=3, p=1, score=0.8944723618090452, total=   0.0s\n",
      "[CV] algorithm=auto, n_neighbors=3, p=1 ..............................\n"
     ]
    },
    {
     "name": "stderr",
     "output_type": "stream",
     "text": [
      "[Parallel(n_jobs=1)]: Done   9 out of   9 | elapsed:    8.6s remaining:    0.0s\n"
     ]
    },
    {
     "name": "stdout",
     "output_type": "stream",
     "text": [
      "[CV]  algorithm=auto, n_neighbors=3, p=1, score=0.9187817258883249, total=   0.0s\n",
      "[CV] algorithm=auto, n_neighbors=3, p=2 ..............................\n",
      "[CV]  algorithm=auto, n_neighbors=3, p=2, score=0.9168591224018475, total=   0.0s\n",
      "[CV] algorithm=auto, n_neighbors=3, p=2 ..............................\n",
      "[CV]  algorithm=auto, n_neighbors=3, p=2, score=0.9016393442622951, total=   0.0s\n",
      "[CV] algorithm=auto, n_neighbors=3, p=2 ..............................\n",
      "[CV]  algorithm=auto, n_neighbors=3, p=2, score=0.9121140142517815, total=   0.0s\n",
      "[CV] algorithm=auto, n_neighbors=3, p=2 ..............................\n",
      "[CV]  algorithm=auto, n_neighbors=3, p=2, score=0.9040767386091128, total=   0.0s\n",
      "[CV] algorithm=auto, n_neighbors=3, p=2 ..............................\n",
      "[CV]  algorithm=auto, n_neighbors=3, p=2, score=0.9174757281553398, total=   0.0s\n",
      "[CV] algorithm=auto, n_neighbors=3, p=2 ..............................\n",
      "[CV]  algorithm=auto, n_neighbors=3, p=2, score=0.9285714285714286, total=   0.1s\n",
      "[CV] algorithm=auto, n_neighbors=3, p=2 ..............................\n",
      "[CV]  algorithm=auto, n_neighbors=3, p=2, score=0.9007444168734491, total=   0.0s\n",
      "[CV] algorithm=auto, n_neighbors=3, p=2 ..............................\n",
      "[CV]  algorithm=auto, n_neighbors=3, p=2, score=0.9002493765586035, total=   0.0s\n",
      "[CV] algorithm=auto, n_neighbors=3, p=2 ..............................\n",
      "[CV]  algorithm=auto, n_neighbors=3, p=2, score=0.8944723618090452, total=   0.0s\n",
      "[CV] algorithm=auto, n_neighbors=3, p=2 ..............................\n",
      "[CV]  algorithm=auto, n_neighbors=3, p=2, score=0.8857868020304569, total=   0.0s\n",
      "[CV] algorithm=auto, n_neighbors=3, p=3 ..............................\n",
      "[CV]  algorithm=auto, n_neighbors=3, p=3, score=0.9076212471131639, total=   0.8s\n",
      "[CV] algorithm=auto, n_neighbors=3, p=3 ..............................\n",
      "[CV]  algorithm=auto, n_neighbors=3, p=3, score=0.8782201405152225, total=   0.8s\n",
      "[CV] algorithm=auto, n_neighbors=3, p=3 ..............................\n",
      "[CV]  algorithm=auto, n_neighbors=3, p=3, score=0.9097387173396675, total=   0.8s\n",
      "[CV] algorithm=auto, n_neighbors=3, p=3 ..............................\n",
      "[CV]  algorithm=auto, n_neighbors=3, p=3, score=0.9064748201438849, total=   0.8s\n",
      "[CV] algorithm=auto, n_neighbors=3, p=3 ..............................\n",
      "[CV]  algorithm=auto, n_neighbors=3, p=3, score=0.9004854368932039, total=   0.7s\n",
      "[CV] algorithm=auto, n_neighbors=3, p=3 ..............................\n",
      "[CV]  algorithm=auto, n_neighbors=3, p=3, score=0.9187192118226601, total=   0.8s\n",
      "[CV] algorithm=auto, n_neighbors=3, p=3 ..............................\n",
      "[CV]  algorithm=auto, n_neighbors=3, p=3, score=0.8784119106699751, total=   1.0s\n",
      "[CV] algorithm=auto, n_neighbors=3, p=3 ..............................\n",
      "[CV]  algorithm=auto, n_neighbors=3, p=3, score=0.8952618453865336, total=   0.7s\n",
      "[CV] algorithm=auto, n_neighbors=3, p=3 ..............................\n",
      "[CV]  algorithm=auto, n_neighbors=3, p=3, score=0.8618090452261307, total=   0.7s\n",
      "[CV] algorithm=auto, n_neighbors=3, p=3 ..............................\n",
      "[CV]  algorithm=auto, n_neighbors=3, p=3, score=0.8857868020304569, total=   0.7s\n",
      "[CV] algorithm=auto, n_neighbors=5, p=1 ..............................\n",
      "[CV]  algorithm=auto, n_neighbors=5, p=1, score=0.9284064665127021, total=   0.0s\n",
      "[CV] algorithm=auto, n_neighbors=5, p=1 ..............................\n",
      "[CV]  algorithm=auto, n_neighbors=5, p=1, score=0.9086651053864169, total=   0.0s\n",
      "[CV] algorithm=auto, n_neighbors=5, p=1 ..............................\n",
      "[CV]  algorithm=auto, n_neighbors=5, p=1, score=0.9097387173396675, total=   0.0s\n",
      "[CV] algorithm=auto, n_neighbors=5, p=1 ..............................\n",
      "[CV]  algorithm=auto, n_neighbors=5, p=1, score=0.9136690647482014, total=   0.0s\n",
      "[CV] algorithm=auto, n_neighbors=5, p=1 ..............................\n",
      "[CV]  algorithm=auto, n_neighbors=5, p=1, score=0.9271844660194175, total=   0.0s\n",
      "[CV] algorithm=auto, n_neighbors=5, p=1 ..............................\n",
      "[CV]  algorithm=auto, n_neighbors=5, p=1, score=0.9236453201970444, total=   0.0s\n",
      "[CV] algorithm=auto, n_neighbors=5, p=1 ..............................\n",
      "[CV]  algorithm=auto, n_neighbors=5, p=1, score=0.9230769230769231, total=   0.0s\n",
      "[CV] algorithm=auto, n_neighbors=5, p=1 ..............................\n",
      "[CV]  algorithm=auto, n_neighbors=5, p=1, score=0.9077306733167082, total=   0.0s\n",
      "[CV] algorithm=auto, n_neighbors=5, p=1 ..............................\n",
      "[CV]  algorithm=auto, n_neighbors=5, p=1, score=0.9095477386934674, total=   0.0s\n",
      "[CV] algorithm=auto, n_neighbors=5, p=1 ..............................\n",
      "[CV]  algorithm=auto, n_neighbors=5, p=1, score=0.9035532994923858, total=   0.0s\n",
      "[CV] algorithm=auto, n_neighbors=5, p=2 ..............................\n",
      "[CV]  algorithm=auto, n_neighbors=5, p=2, score=0.9145496535796767, total=   0.0s\n",
      "[CV] algorithm=auto, n_neighbors=5, p=2 ..............................\n",
      "[CV]  algorithm=auto, n_neighbors=5, p=2, score=0.882903981264637, total=   0.0s\n",
      "[CV] algorithm=auto, n_neighbors=5, p=2 ..............................\n",
      "[CV]  algorithm=auto, n_neighbors=5, p=2, score=0.9121140142517815, total=   0.0s\n",
      "[CV] algorithm=auto, n_neighbors=5, p=2 ..............................\n",
      "[CV]  algorithm=auto, n_neighbors=5, p=2, score=0.9016786570743405, total=   0.0s\n",
      "[CV] algorithm=auto, n_neighbors=5, p=2 ..............................\n",
      "[CV]  algorithm=auto, n_neighbors=5, p=2, score=0.9077669902912622, total=   0.0s\n",
      "[CV] algorithm=auto, n_neighbors=5, p=2 ..............................\n",
      "[CV]  algorithm=auto, n_neighbors=5, p=2, score=0.916256157635468, total=   0.0s\n",
      "[CV] algorithm=auto, n_neighbors=5, p=2 ..............................\n",
      "[CV]  algorithm=auto, n_neighbors=5, p=2, score=0.9106699751861043, total=   0.0s\n",
      "[CV] algorithm=auto, n_neighbors=5, p=2 ..............................\n",
      "[CV]  algorithm=auto, n_neighbors=5, p=2, score=0.8977556109725686, total=   0.0s\n",
      "[CV] algorithm=auto, n_neighbors=5, p=2 ..............................\n",
      "[CV]  algorithm=auto, n_neighbors=5, p=2, score=0.8894472361809045, total=   0.0s\n",
      "[CV] algorithm=auto, n_neighbors=5, p=2 ..............................\n",
      "[CV]  algorithm=auto, n_neighbors=5, p=2, score=0.8959390862944162, total=   0.0s\n",
      "[CV] algorithm=auto, n_neighbors=5, p=3 ..............................\n",
      "[CV]  algorithm=auto, n_neighbors=5, p=3, score=0.8891454965357968, total=   1.0s\n",
      "[CV] algorithm=auto, n_neighbors=5, p=3 ..............................\n",
      "[CV]  algorithm=auto, n_neighbors=5, p=3, score=0.8758782201405152, total=   0.9s\n",
      "[CV] algorithm=auto, n_neighbors=5, p=3 ..............................\n",
      "[CV]  algorithm=auto, n_neighbors=5, p=3, score=0.9121140142517815, total=   0.9s\n",
      "[CV] algorithm=auto, n_neighbors=5, p=3 ..............................\n",
      "[CV]  algorithm=auto, n_neighbors=5, p=3, score=0.8872901678657075, total=   0.9s\n",
      "[CV] algorithm=auto, n_neighbors=5, p=3 ..............................\n",
      "[CV]  algorithm=auto, n_neighbors=5, p=3, score=0.8859223300970874, total=   1.2s\n",
      "[CV] algorithm=auto, n_neighbors=5, p=3 ..............................\n",
      "[CV]  algorithm=auto, n_neighbors=5, p=3, score=0.9039408866995073, total=   1.1s\n",
      "[CV] algorithm=auto, n_neighbors=5, p=3 ..............................\n",
      "[CV]  algorithm=auto, n_neighbors=5, p=3, score=0.8982630272952854, total=   0.9s\n",
      "[CV] algorithm=auto, n_neighbors=5, p=3 ..............................\n",
      "[CV]  algorithm=auto, n_neighbors=5, p=3, score=0.8902743142144638, total=   1.1s\n",
      "[CV] algorithm=auto, n_neighbors=5, p=3 ..............................\n",
      "[CV]  algorithm=auto, n_neighbors=5, p=3, score=0.8592964824120602, total=   0.9s\n",
      "[CV] algorithm=auto, n_neighbors=5, p=3 ..............................\n",
      "[CV]  algorithm=auto, n_neighbors=5, p=3, score=0.8807106598984772, total=   0.9s\n",
      "[CV] algorithm=auto, n_neighbors=9, p=1 ..............................\n",
      "[CV]  algorithm=auto, n_neighbors=9, p=1, score=0.9191685912240185, total=   0.1s\n",
      "[CV] algorithm=auto, n_neighbors=9, p=1 ..............................\n",
      "[CV]  algorithm=auto, n_neighbors=9, p=1, score=0.9039812646370023, total=   0.0s\n",
      "[CV] algorithm=auto, n_neighbors=9, p=1 ..............................\n",
      "[CV]  algorithm=auto, n_neighbors=9, p=1, score=0.9121140142517815, total=   0.0s\n",
      "[CV] algorithm=auto, n_neighbors=9, p=1 ..............................\n"
     ]
    },
    {
     "name": "stdout",
     "output_type": "stream",
     "text": [
      "[CV]  algorithm=auto, n_neighbors=9, p=1, score=0.9184652278177458, total=   0.0s\n",
      "[CV] algorithm=auto, n_neighbors=9, p=1 ..............................\n",
      "[CV]  algorithm=auto, n_neighbors=9, p=1, score=0.9029126213592233, total=   0.0s\n",
      "[CV] algorithm=auto, n_neighbors=9, p=1 ..............................\n",
      "[CV]  algorithm=auto, n_neighbors=9, p=1, score=0.9039408866995073, total=   0.0s\n",
      "[CV] algorithm=auto, n_neighbors=9, p=1 ..............................\n",
      "[CV]  algorithm=auto, n_neighbors=9, p=1, score=0.9205955334987593, total=   0.0s\n",
      "[CV] algorithm=auto, n_neighbors=9, p=1 ..............................\n",
      "[CV]  algorithm=auto, n_neighbors=9, p=1, score=0.9052369077306733, total=   0.0s\n",
      "[CV] algorithm=auto, n_neighbors=9, p=1 ..............................\n",
      "[CV]  algorithm=auto, n_neighbors=9, p=1, score=0.8994974874371859, total=   0.0s\n",
      "[CV] algorithm=auto, n_neighbors=9, p=1 ..............................\n",
      "[CV]  algorithm=auto, n_neighbors=9, p=1, score=0.8959390862944162, total=   0.0s\n",
      "[CV] algorithm=auto, n_neighbors=9, p=2 ..............................\n",
      "[CV]  algorithm=auto, n_neighbors=9, p=2, score=0.8983833718244804, total=   0.0s\n",
      "[CV] algorithm=auto, n_neighbors=9, p=2 ..............................\n",
      "[CV]  algorithm=auto, n_neighbors=9, p=2, score=0.8735362997658079, total=   0.1s\n",
      "[CV] algorithm=auto, n_neighbors=9, p=2 ..............................\n",
      "[CV]  algorithm=auto, n_neighbors=9, p=2, score=0.9073634204275535, total=   0.0s\n",
      "[CV] algorithm=auto, n_neighbors=9, p=2 ..............................\n",
      "[CV]  algorithm=auto, n_neighbors=9, p=2, score=0.8968824940047961, total=   0.0s\n",
      "[CV] algorithm=auto, n_neighbors=9, p=2 ..............................\n",
      "[CV]  algorithm=auto, n_neighbors=9, p=2, score=0.9004854368932039, total=   0.0s\n",
      "[CV] algorithm=auto, n_neighbors=9, p=2 ..............................\n",
      "[CV]  algorithm=auto, n_neighbors=9, p=2, score=0.9039408866995073, total=   0.0s\n",
      "[CV] algorithm=auto, n_neighbors=9, p=2 ..............................\n",
      "[CV]  algorithm=auto, n_neighbors=9, p=2, score=0.8933002481389578, total=   0.0s\n",
      "[CV] algorithm=auto, n_neighbors=9, p=2 ..............................\n",
      "[CV]  algorithm=auto, n_neighbors=9, p=2, score=0.885286783042394, total=   0.0s\n",
      "[CV] algorithm=auto, n_neighbors=9, p=2 ..............................\n",
      "[CV]  algorithm=auto, n_neighbors=9, p=2, score=0.8768844221105527, total=   0.0s\n",
      "[CV] algorithm=auto, n_neighbors=9, p=2 ..............................\n",
      "[CV]  algorithm=auto, n_neighbors=9, p=2, score=0.8883248730964467, total=   0.0s\n",
      "[CV] algorithm=auto, n_neighbors=9, p=3 ..............................\n",
      "[CV]  algorithm=auto, n_neighbors=9, p=3, score=0.8775981524249422, total=   1.1s\n",
      "[CV] algorithm=auto, n_neighbors=9, p=3 ..............................\n",
      "[CV]  algorithm=auto, n_neighbors=9, p=3, score=0.8641686182669789, total=   1.1s\n",
      "[CV] algorithm=auto, n_neighbors=9, p=3 ..............................\n",
      "[CV]  algorithm=auto, n_neighbors=9, p=3, score=0.9026128266033254, total=   1.1s\n",
      "[CV] algorithm=auto, n_neighbors=9, p=3 ..............................\n",
      "[CV]  algorithm=auto, n_neighbors=9, p=3, score=0.8848920863309353, total=   1.0s\n",
      "[CV] algorithm=auto, n_neighbors=9, p=3 ..............................\n"
     ]
    }
   ],
   "source": [
    "gs.fit(X_train, y_train)"
   ]
  },
  {
   "cell_type": "code",
   "execution_count": 22,
   "metadata": {},
   "outputs": [
    {
     "name": "stdout",
     "output_type": "stream",
     "text": [
      "KNeighborsClassifier(algorithm='auto', leaf_size=30, metric='minkowski',\n",
      "           metric_params=None, n_jobs=1, n_neighbors=3, p=1,\n",
      "           weights='uniform')\n"
     ]
    }
   ],
   "source": [
    "print(gs.best_estimator_)"
   ]
  },
  {
   "cell_type": "code",
   "execution_count": 23,
   "metadata": {},
   "outputs": [
    {
     "data": {
      "text/plain": [
       "KNeighborsClassifier(algorithm='auto', leaf_size=30, metric='minkowski',\n",
       "           metric_params=None, n_jobs=1, n_neighbors=3, p=1,\n",
       "           weights='uniform')"
      ]
     },
     "execution_count": 23,
     "metadata": {},
     "output_type": "execute_result"
    }
   ],
   "source": [
    "new_knn = KNeighborsClassifier(algorithm='auto', leaf_size=30, metric='minkowski',\n",
    "           metric_params=None, n_jobs=1, n_neighbors=3, p=1,\n",
    "           weights='uniform')\n",
    "new_knn.fit(X_train, y_train)"
   ]
  },
  {
   "cell_type": "code",
   "execution_count": 24,
   "metadata": {},
   "outputs": [
    {
     "name": "stdout",
     "output_type": "stream",
     "text": [
      "KNN - fine tuned, got 92.90981281905843% accuracy on the test set.\n"
     ]
    }
   ],
   "source": [
    "print(\"KNN - fine tuned, got {}% accuracy on the test set.\".format(accuracy_score(y_test, new_knn.predict(X_test))*100))"
   ]
  },
  {
   "cell_type": "markdown",
   "metadata": {},
   "source": [
    "#### Step 2.1.2 Logistic Regression"
   ]
  },
  {
   "cell_type": "code",
   "execution_count": 21,
   "metadata": {},
   "outputs": [],
   "source": [
    "from sklearn.linear_model import LogisticRegression"
   ]
  },
  {
   "cell_type": "code",
   "execution_count": 22,
   "metadata": {},
   "outputs": [
    {
     "name": "stderr",
     "output_type": "stream",
     "text": [
      "D:\\Environment\\Conda\\lib\\site-packages\\sklearn\\linear_model\\logistic.py:433: FutureWarning: Default solver will be changed to 'lbfgs' in 0.22. Specify a solver to silence this warning.\n",
      "  FutureWarning)\n",
      "D:\\Environment\\Conda\\lib\\site-packages\\sklearn\\linear_model\\logistic.py:460: FutureWarning: Default multi_class will be changed to 'auto' in 0.22. Specify the multi_class option to silence this warning.\n",
      "  \"this warning.\", FutureWarning)\n"
     ]
    },
    {
     "data": {
      "text/plain": [
       "LogisticRegression(C=1.0, class_weight=None, dual=False, fit_intercept=True,\n",
       "          intercept_scaling=1, max_iter=100, multi_class='warn',\n",
       "          n_jobs=None, penalty='l2', random_state=None, solver='warn',\n",
       "          tol=0.0001, verbose=0, warm_start=False)"
      ]
     },
     "execution_count": 22,
     "metadata": {},
     "output_type": "execute_result"
    }
   ],
   "source": [
    "lr = LogisticRegression()\n",
    "lr.fit(X_train, y_train)"
   ]
  },
  {
   "cell_type": "code",
   "execution_count": 23,
   "metadata": {},
   "outputs": [
    {
     "name": "stdout",
     "output_type": "stream",
     "text": [
      "Logistic regression - default, got 92.3425978445831% accuracy on the test set.\n"
     ]
    }
   ],
   "source": [
    "print(\"Logistic regression - default, got {}% accuracy on the test set.\".format(accuracy_score(y_test, lr.predict(X_test))*100))"
   ]
  },
  {
   "cell_type": "code",
   "execution_count": 24,
   "metadata": {},
   "outputs": [
    {
     "name": "stderr",
     "output_type": "stream",
     "text": [
      "D:\\Environment\\Conda\\lib\\site-packages\\sklearn\\linear_model\\logistic.py:433: FutureWarning: Default solver will be changed to 'lbfgs' in 0.22. Specify a solver to silence this warning.\n",
      "  FutureWarning)\n",
      "D:\\Environment\\Conda\\lib\\site-packages\\sklearn\\linear_model\\logistic.py:460: FutureWarning: Default multi_class will be changed to 'auto' in 0.22. Specify the multi_class option to silence this warning.\n",
      "  \"this warning.\", FutureWarning)\n"
     ]
    },
    {
     "data": {
      "text/plain": [
       "LogisticRegression(C=1000, class_weight=None, dual=False, fit_intercept=True,\n",
       "          intercept_scaling=1, max_iter=100, multi_class='warn',\n",
       "          n_jobs=None, penalty='l2', random_state=None, solver='warn',\n",
       "          tol=0.0001, verbose=0, warm_start=False)"
      ]
     },
     "execution_count": 24,
     "metadata": {},
     "output_type": "execute_result"
    }
   ],
   "source": [
    "lr_tuned = LogisticRegression(C=1000, penalty='l2')\n",
    "lr_tuned.fit(X_train, y_train)"
   ]
  },
  {
   "cell_type": "code",
   "execution_count": 25,
   "metadata": {},
   "outputs": [
    {
     "name": "stdout",
     "output_type": "stream",
     "text": [
      "Logistic regression - tuned, got 94.6114577424844% accuracy on the test set.\n"
     ]
    }
   ],
   "source": [
    "print(\"Logistic regression - tuned, got {}% accuracy on the test set.\".format(accuracy_score(y_test, lr_tuned.predict(X_test))*100))"
   ]
  },
  {
   "cell_type": "markdown",
   "metadata": {},
   "source": [
    "## Step 2.2 Tree and forest classifiers"
   ]
  },
  {
   "cell_type": "markdown",
   "metadata": {},
   "source": [
    "### Step 2.2.1 Tree Classifier"
   ]
  },
  {
   "cell_type": "code",
   "execution_count": 26,
   "metadata": {},
   "outputs": [],
   "source": [
    "from sklearn.tree import DecisionTreeClassifier"
   ]
  },
  {
   "cell_type": "code",
   "execution_count": 27,
   "metadata": {},
   "outputs": [
    {
     "data": {
      "text/plain": [
       "DecisionTreeClassifier(class_weight=None, criterion='gini', max_depth=None,\n",
       "            max_features=None, max_leaf_nodes=None,\n",
       "            min_impurity_decrease=0.0, min_impurity_split=None,\n",
       "            min_samples_leaf=1, min_samples_split=2,\n",
       "            min_weight_fraction_leaf=0.0, presort=False, random_state=None,\n",
       "            splitter='best')"
      ]
     },
     "execution_count": 27,
     "metadata": {},
     "output_type": "execute_result"
    }
   ],
   "source": [
    "dtc = DecisionTreeClassifier()\n",
    "dtc.fit(X_train, y_train)"
   ]
  },
  {
   "cell_type": "code",
   "execution_count": 28,
   "metadata": {},
   "outputs": [
    {
     "name": "stdout",
     "output_type": "stream",
     "text": [
      "Decision tree classifier, got 99.14917753828702% accuracy on the test set.\n"
     ]
    }
   ],
   "source": [
    "print(\"Decision tree classifier, got {}% accuracy on the test set.\".format(accuracy_score(y_test, dtc.predict(X_test))*100))"
   ]
  },
  {
   "cell_type": "markdown",
   "metadata": {},
   "source": [
    "### Step 2.2.2 Forest"
   ]
  },
  {
   "cell_type": "code",
   "execution_count": 29,
   "metadata": {},
   "outputs": [],
   "source": [
    "from sklearn.ensemble import RandomForestClassifier"
   ]
  },
  {
   "cell_type": "code",
   "execution_count": 30,
   "metadata": {},
   "outputs": [
    {
     "data": {
      "text/plain": [
       "RandomForestClassifier(bootstrap=True, class_weight=None, criterion='gini',\n",
       "            max_depth=None, max_features='auto', max_leaf_nodes=None,\n",
       "            min_impurity_decrease=0.0, min_impurity_split=None,\n",
       "            min_samples_leaf=1, min_samples_split=2,\n",
       "            min_weight_fraction_leaf=0.0, n_estimators=350, n_jobs=None,\n",
       "            oob_score=False, random_state=None, verbose=0,\n",
       "            warm_start=False)"
      ]
     },
     "execution_count": 30,
     "metadata": {},
     "output_type": "execute_result"
    }
   ],
   "source": [
    "rfc = RandomForestClassifier(n_estimators=350)\n",
    "rfc.fit(X_train, y_train)"
   ]
  },
  {
   "cell_type": "code",
   "execution_count": 31,
   "metadata": {},
   "outputs": [
    {
     "name": "stdout",
     "output_type": "stream",
     "text": [
      "Random forest classifier, got 98.58196256381169% accuracy on the test set.\n"
     ]
    }
   ],
   "source": [
    "print(\"Random forest classifier, got {}% accuracy on the test set.\".format(accuracy_score(y_test, rfc.predict(X_test))*100))"
   ]
  },
  {
   "cell_type": "markdown",
   "metadata": {},
   "source": [
    "## Summary:"
   ]
  },
  {
   "cell_type": "markdown",
   "metadata": {},
   "source": [
    "In this task as you can see the best overall performance (accuracy) on the test set had Tree classifier. Right behind it Random Forest Classifier showed great accuracy with 99.04%"
   ]
  },
  {
   "cell_type": "code",
   "execution_count": 32,
   "metadata": {},
   "outputs": [],
   "source": [
    "accuracy_tree = cross_val_score(dtc, scled_features, labels, scoring='accuracy', cv=10)"
   ]
  },
  {
   "cell_type": "code",
   "execution_count": 33,
   "metadata": {},
   "outputs": [
    {
     "name": "stdout",
     "output_type": "stream",
     "text": [
      "98.97840399814328\n"
     ]
    }
   ],
   "source": [
    "print(np.mean(accuracy_tree)*100)"
   ]
  },
  {
   "cell_type": "markdown",
   "metadata": {},
   "source": [
    "To be sure we tested the algorithm with best performance on cross_validation on WHOLE dataset. Performance is pretty good, right :)"
   ]
  }
 ],
 "metadata": {
  "kernelspec": {
   "display_name": "Python 3",
   "language": "python",
   "name": "python3"
  },
  "language_info": {
   "codemirror_mode": {
    "name": "ipython",
    "version": 3
   },
   "file_extension": ".py",
   "mimetype": "text/x-python",
   "name": "python",
   "nbconvert_exporter": "python",
   "pygments_lexer": "ipython3",
   "version": "3.6.8"
  }
 },
 "nbformat": 4,
 "nbformat_minor": 1
}
